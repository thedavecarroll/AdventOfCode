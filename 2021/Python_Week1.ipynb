{
 "cells": [
  {
   "cell_type": "markdown",
   "metadata": {},
   "source": [
    "# Advent of Code 2021 (Python)\n",
    "\n",
    "## Day 1 - Sonar Sweep\n",
    "\n",
    "[Puzzle Link](https://adventofcode.com/2021/day/1)\n",
    "\n",
    "### Input"
   ]
  },
  {
   "cell_type": "code",
   "execution_count": 106,
   "metadata": {},
   "outputs": [],
   "source": [
    "is_test_data = False\n",
    "if is_test_data:\n",
    "    readings = [199,200,208,210,200,207,240,269,260,263] # test data\n",
    "else:\n",
    "    with open('.\\PuzzleInput\\day1.txt', 'r') as file:   # open file for reading\n",
    "        readings = [int(line) for line in file]         # read each line and strip any trailing space, casting to integer"
   ]
  },
  {
   "cell_type": "markdown",
   "metadata": {},
   "source": [
    "### Puzzle 1"
   ]
  },
  {
   "cell_type": "code",
   "execution_count": 107,
   "metadata": {},
   "outputs": [
    {
     "name": "stdout",
     "output_type": "stream",
     "text": [
      "depth measurement increased: 1451\n"
     ]
    }
   ],
   "source": [
    "increased = 0                                           # initialize counter\n",
    "for i in range(1,len(readings)):                        # create for loop using range function, starting with 1\n",
    "    if readings[i] > readings[i-1]:                     # define condition\n",
    "        increased += 1                                  # increment counter\n",
    "print(f'depth measurement increased: {increased}')      # print the number of times the depth reading increased using literal string interpolation"
   ]
  },
  {
   "cell_type": "markdown",
   "metadata": {},
   "source": [
    "### Puzzle 2"
   ]
  },
  {
   "cell_type": "code",
   "execution_count": 108,
   "metadata": {},
   "outputs": [
    {
     "name": "stdout",
     "output_type": "stream",
     "text": [
      "depth sums larger that previous: 1395\n"
     ]
    }
   ],
   "source": [
    "group_increased = 0                                         # initialize counter \n",
    "for i in range(1,len(readings)):                            # create for loop using range function, starting with 1\n",
    "    previous = readings[i-1:i+2]                            # get previous window using ranged index\n",
    "    current = readings[i:i+3]                               # get current window using ranged index\n",
    "    if sum(current) > sum(previous):                        # compare sum of current window with previous window\n",
    "        group_increased += 1                                # increment counter\n",
    "print('depth sums larger that previous:', group_increased)  # print the result"
   ]
  }
 ],
 "metadata": {
  "interpreter": {
   "hash": "b89b5cfaba6639976dc87ff2fec6d58faec662063367e2c229c520fe71072417"
  },
  "kernelspec": {
   "display_name": "Python 3.10.0 64-bit",
   "language": "python",
   "name": "python3"
  },
  "language_info": {
   "codemirror_mode": {
    "name": "ipython",
    "version": 3
   },
   "file_extension": ".py",
   "mimetype": "text/x-python",
   "name": "python",
   "nbconvert_exporter": "python",
   "pygments_lexer": "ipython3",
   "version": "3.10.0"
  },
  "orig_nbformat": 4
 },
 "nbformat": 4,
 "nbformat_minor": 2
}
