{
 "cells": [
  {
   "cell_type": "markdown",
   "id": "d516a09f-d449-48d5-9422-5e838a5fb876",
   "metadata": {
    "tags": []
   },
   "source": [
    "# Advent of Code 2021\n",
    "\n",
    "This year I want to attempt to solve as many daily puzzles as I can using PowerShell and Python.\n",
    "\n",
    "> For those of you that came here from the first link that I shared, please accept my apologies.\n",
    "> \n",
    "> As it turns out, separating the solutions by day (and language) will be much better.\n",
    "\n",
    "### PowerShell Solutions\n",
    "\n",
    "Just one more click to get to my PowerShell solutions for Advent of Code 2021.\n",
    "\n",
    "- [Day 1 - Sonar Sweep](https://github.com/thedavecarroll/AdventOfCode/blob/main/2021/PowerShell/Day1.ipynb)\n",
    "- [Day 2 - Dive!](https://github.com/thedavecarroll/AdventOfCode/blob/main/2021/PowerShell/Day2.ipynb)\n",
    "- [Day 3 - Binary Diagnostic](https://github.com/thedavecarroll/AdventOfCode/blob/main/2021/PowerShell/Day3.ipynb)\n",
    "- [Day 4 - Giant Squid](https://github.com/thedavecarroll/AdventOfCode/blob/main/2021/PowerShell/Day4.ipynb)\n",
    "- [Day 5 - Hydrothermal Venture](https://github.com/thedavecarroll/AdventOfCode/blob/main/2021/PowerShell/Day5.ipynb)\n",
    "- [Day 6 - Lanternfish](https://github.com/thedavecarroll/AdventOfCode/blob/main/2021/PowerShell/Day6.ipynb)\n",
    "- [Day 7 - The Treachery of Whales](https://github.com/thedavecarroll/AdventOfCode/blob/main/2021/PowerShell/Day7.ipynb)\n",
    "\n",
    "### Python Solutions\n",
    "\n",
    "- [Day 1 - Sonar Sweep](https://github.com/thedavecarroll/AdventOfCode/blob/main/2021/Python/Day1.ipynb)\n"
   ]
  }
 ],
 "metadata": {
  "kernelspec": {
   "display_name": ".NET (PowerShell)",
   "language": "PowerShell",
   "name": ".net-powershell"
  },
  "language_info": {
   "file_extension": ".ps1",
   "mimetype": "text/x-powershell",
   "name": "PowerShell",
   "pygments_lexer": "powershell",
   "version": "7.0"
  }
 },
 "nbformat": 4,
 "nbformat_minor": 5
}
