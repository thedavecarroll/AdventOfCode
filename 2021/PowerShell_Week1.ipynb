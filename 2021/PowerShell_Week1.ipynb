{
 "cells": [
  {
   "cell_type": "markdown",
   "id": "d516a09f-d449-48d5-9422-5e838a5fb876",
   "metadata": {
    "tags": []
   },
   "source": [
    "# Advent of Code 2021 (PowerShell)\n",
    "\n",
    "## Day 1 - Sonar Sweep\n",
    "\n",
    "[Puzzle Link](https://adventofcode.com/2021/day/1)\n",
    "\n",
    "### Input"
   ]
  },
  {
   "cell_type": "code",
   "execution_count": null,
   "id": "0efc4dc6",
   "metadata": {
    "dotnet_interactive": {
     "language": "pwsh"
    }
   },
   "outputs": [],
   "source": [
    "[int[]]$Readings = Get-Content -Path ..\\PuzzleInput\\day1.txt"
   ]
  },
  {
   "cell_type": "markdown",
   "id": "6d14d379",
   "metadata": {},
   "source": [
    "#### Learning Points\n",
    "\n",
    "- By default, `Get-Content` will read the file line by line, creating an array of (string) lines.\n",
    "\n",
    "- You need to compare the current and previous reading as numbers and not as strings.\n",
    "Make PowerShell do the work by *casting* the variable as an array of integers, `[int[]]`.\n",
    "\n",
    "### Puzzle 1\n",
    "\n",
    "Using input file, count the number of times a depth measurement increases."
   ]
  },
  {
   "cell_type": "code",
   "execution_count": null,
   "id": "9df1ab32",
   "metadata": {
    "dotnet_interactive": {
     "language": "pwsh"
    }
   },
   "outputs": [
    {
     "name": "stdout",
     "output_type": "stream",
     "text": [
      "1451\r\n"
     ]
    }
   ],
   "source": [
    "# Direct variable assignment\n",
    "$Increased = for ($Count = 1; $Count -le $Readings.Count; $Count++) {\n",
    "    if ($Readings[$Count] -gt $Readings[$Count-1]) { 1 }\n",
    "}\n",
    "$Increased.Count"
   ]
  },
  {
   "cell_type": "code",
   "execution_count": null,
   "id": "40c42081",
   "metadata": {
    "dotnet_interactive": {
     "language": "pwsh"
    }
   },
   "outputs": [
    {
     "name": "stdout",
     "output_type": "stream",
     "text": [
      "1451\r\n"
     ]
    }
   ],
   "source": [
    "# Incrementing variable\n",
    "$Increased = 0\n",
    "for ($Count = 1; $Count -le $Readings.Count; $Count++) {\n",
    "    if ($Readings[$Count] -gt $Readings[$Count-1]) { $Increased++ }\n",
    "}\n",
    "$Increased"
   ]
  },
  {
   "cell_type": "markdown",
   "id": "48492e25-3f5a-42f9-a8f0-fd773d71796e",
   "metadata": {},
   "source": [
    "#### Learning Points\n",
    "\n",
    "- You will need to use a loop to cycle through each of the readings.\n",
    "I've chosen to use a `for` loop which allows me to initialize a counter, define the condition that ends the loop, and increment the counter.\n",
    "  - You can increment or decrement an integer by using `++` or `--`.\n",
    "- Instead of defining a variable that would contain the number of times the readings increased, I wanted to show you that you can assign the results of a `for` loops,\n",
    "and many other loops and expressions, directly to a variable.\n",
    "By doing so, I can output `1` and because of the variable assignment, `$Increased = for (...) { ... }`, it becomes an array of `1's`.\n",
    "To get the answer, I use the array type property, `Count`.\n",
    "- I've also included a second method which will likely take less memory and complete faster.\n",
    "\n",
    "### Puzzle 2\n",
    "\n",
    "Count the number of times the sum of measurements in this sliding window increases from the previous sum."
   ]
  },
  {
   "cell_type": "code",
   "execution_count": null,
   "id": "c13c709e-97bd-48b7-ae88-03a169a76149",
   "metadata": {
    "dotnet_interactive": {
     "language": "pwsh"
    }
   },
   "outputs": [
    {
     "name": "stdout",
     "output_type": "stream",
     "text": [
      "1395\r\n"
     ]
    }
   ],
   "source": [
    "$GroupCount = 0\n",
    "$GroupIncreased = 0\n",
    "do {\n",
    "    $PreviousGroupSum = ($Readings[$GroupCount..($GroupCount+2)] | Measure-Object -Sum).Sum\n",
    "    $CurrentGroupSum = ($Readings[($GroupCount+1)..($GroupCount+3)] | Measure-Object -Sum).Sum\n",
    "    if ($CurrentGroupSum -gt $PreviousGroupSum) {\n",
    "        $GroupIncreased++\n",
    "    }\n",
    "    $GroupCount++\n",
    "} while ($GroupCount -lt $Readings.Count)\n",
    "$GroupIncreased"
   ]
  },
  {
   "cell_type": "markdown",
   "id": "ef405ade",
   "metadata": {},
   "source": [
    "## Day 2 - Dive!\n",
    "\n",
    "[Puzzle Link](https://adventofcode.com/2021/day/2)\n",
    "\n",
    "### Input"
   ]
  },
  {
   "cell_type": "code",
   "execution_count": null,
   "id": "d155ffd7",
   "metadata": {
    "dotnet_interactive": {
     "language": "pwsh"
    }
   },
   "outputs": [],
   "source": [
    "$SubMoves = Get-Content -Path ..\\PuzzleInput\\day2.txt"
   ]
  },
  {
   "cell_type": "markdown",
   "id": "4ded5752",
   "metadata": {},
   "source": [
    "### Puzzle 1\n",
    "\n",
    "What do you get if you multiply your final horizontal position by your final depth?"
   ]
  },
  {
   "cell_type": "code",
   "execution_count": null,
   "id": "c89c7541",
   "metadata": {
    "dotnet_interactive": {
     "language": "pwsh"
    }
   },
   "outputs": [
    {
     "name": "stdout",
     "output_type": "stream",
     "text": [
      "Horizontal Position: 1991, Depth 911, Location: 1813801\r\n"
     ]
    }
   ],
   "source": [
    "$Position = 0\n",
    "$Depth = 0\n",
    "foreach ($Move in $SubMoves) {\n",
    "    $Direction,[int]$Distance = $Move.Split(' ')\n",
    "    switch ($Direction) {\n",
    "        'forward'   { $Position += $Distance }\n",
    "        'down'      { $Depth += $Distance }\n",
    "        'up'        { $Depth -= $Distance }\n",
    "    }\n",
    "}\n",
    "'Horizontal Position: {0}, Depth {1}, Location: {2}' -f $Position,$Depth,($Position * $Depth)"
   ]
  },
  {
   "cell_type": "markdown",
   "id": "d834799c",
   "metadata": {},
   "source": [
    "### Puzzle 2\n",
    "\n",
    "With updated instructions, what do you get if you multiply your final horizontal position by your final depth?"
   ]
  },
  {
   "cell_type": "code",
   "execution_count": null,
   "id": "245b95f3",
   "metadata": {
    "dotnet_interactive": {
     "language": "pwsh"
    }
   },
   "outputs": [
    {
     "name": "stdout",
     "output_type": "stream",
     "text": [
      "Horizontal Position: 1991, Depth 984716, Location: 1960569556\r\n"
     ]
    }
   ],
   "source": [
    "$Position = 0\n",
    "$Depth = 0\n",
    "$Aim = 0\n",
    "foreach ($Move in $SubMoves) {\n",
    "    $Direction,[int]$Distance = $Move.Split(' ')\n",
    "    switch ($Direction) {\n",
    "        'forward'   { \n",
    "            $Position += $Distance\n",
    "            $Depth += $Distance * $Aim\n",
    "        }\n",
    "        'down'      { $Aim += $Distance }\n",
    "        'up'        { $Aim -= $Distance }\n",
    "    }\n",
    "}\n",
    "'Horizontal Position: {0}, Depth {1}, Location: {2}' -f $Position,$Depth,($Position * $Depth)"
   ]
  }
 ],
 "metadata": {
  "kernelspec": {
   "display_name": ".NET (PowerShell)",
   "language": "PowerShell",
   "name": ".net-powershell"
  },
  "language_info": {
   "file_extension": ".ps1",
   "mimetype": "text/x-powershell",
   "name": "PowerShell",
   "pygments_lexer": "powershell",
   "version": "7.0"
  }
 },
 "nbformat": 4,
 "nbformat_minor": 5
}
