{
 "cells": [
  {
   "cell_type": "markdown",
   "id": "d516a09f-d449-48d5-9422-5e838a5fb876",
   "metadata": {
    "tags": []
   },
   "source": [
    "# Advent of Code 2021 (PowerShell)\n",
    "\n",
    "## Day 1 - Sonar Sweep\n",
    "\n",
    "[Puzzle Link](https://adventofcode.com/2021/day/1)\n",
    "\n",
    "### Input"
   ]
  },
  {
   "cell_type": "code",
   "execution_count": null,
   "id": "0efc4dc6",
   "metadata": {},
   "outputs": [],
   "source": [
    "[int[]]$Readings = Get-Content -Path .\\input.txt"
   ]
  },
  {
   "cell_type": "markdown",
   "id": "6d14d379",
   "metadata": {},
   "source": [
    "### Puzzle 1\n",
    "\n",
    "Using input file, count the number of times a depth measurement increases."
   ]
  },
  {
   "cell_type": "code",
   "execution_count": null,
   "id": "9df1ab32",
   "metadata": {},
   "outputs": [
    {
     "name": "stdout",
     "output_type": "stream",
     "text": [
      "1451\r\n"
     ]
    }
   ],
   "source": [
    "$Increased = for ($Count = 1; $Count -le $Readings.Count; $Count++) {\n",
    "    if ($Readings[$Count] -gt $Readings[$Count-1]) { 1 }\n",
    "}\n",
    "$Increased.Count"
   ]
  },
  {
   "cell_type": "markdown",
   "id": "48492e25-3f5a-42f9-a8f0-fd773d71796e",
   "metadata": {},
   "source": [
    "### Puzzle 2\n",
    "\n",
    "Count the number of times the sum of measurements in this sliding window increases from the previous sum."
   ]
  },
  {
   "cell_type": "code",
   "execution_count": null,
   "id": "c13c709e-97bd-48b7-ae88-03a169a76149",
   "metadata": {
    "dotnet_interactive": {
     "language": "pwsh"
    }
   },
   "outputs": [
    {
     "name": "stdout",
     "output_type": "stream",
     "text": [
      "1395\r\n"
     ]
    }
   ],
   "source": [
    "$GroupCount = 0\n",
    "$GroupIncreased = 0\n",
    "do {\n",
    "    $PreviousGroupSum = ($Readings[$GroupCount..($GroupCount+2)] | Measure-Object -Sum).Sum\n",
    "    $CurrentGroupSum = ($Readings[($GroupCount+1)..($GroupCount+3)] | Measure-Object -Sum).Sum\n",
    "    if ($CurrentGroupSum -gt $PreviousGroupSum) {\n",
    "        $GroupIncreased++\n",
    "    }\n",
    "    $GroupCount++\n",
    "} while ($GroupCount -lt $Readings.Count)\n",
    "$GroupIncreased"
   ]
  }
 ],
 "metadata": {
  "kernelspec": {
   "display_name": ".NET (PowerShell)",
   "language": "PowerShell",
   "name": ".net-powershell"
  },
  "language_info": {
   "file_extension": ".ps1",
   "mimetype": "text/x-powershell",
   "name": "PowerShell",
   "pygments_lexer": "powershell",
   "version": "7.0"
  }
 },
 "nbformat": 4,
 "nbformat_minor": 5
}
