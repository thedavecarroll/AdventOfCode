{
 "cells": [
  {
   "cell_type": "markdown",
   "id": "48a5dc3c-217a-47ae-8f5b-e74ad2f6065c",
   "metadata": {
    "tags": []
   },
   "source": [
    "# Advent of Code 2021\n",
    "\n",
    "## PowerShell\n",
    "\n",
    "### Day 1 - Sonar Sweep\n",
    "\n",
    "[Puzzle Link](https://adventofcode.com/2021/day/1)\n",
    "\n",
    "Using input file, count the number of times a depth measurement increases.\n"
   ]
  },
  {
   "cell_type": "code",
   "execution_count": 3,
   "id": "35e8fa3a-b058-414e-82ff-443ac3336a9a",
   "metadata": {},
   "outputs": [
    {
     "name": "stdout",
     "output_type": "stream",
     "text": [
      "1451\n"
     ]
    }
   ],
   "source": [
    "$Readings = Get-Content -Path .\\input.txt\n",
    "$Increased = for ($Count = 1; $Count -le $Readings.Count; $Count++) {\n",
    "    [int]$Current = $Readings[$Count]\n",
    "    [int]$Previous = $Readings[$Count-1]\n",
    "    if ($Current -gt $Previous) { 1 }\n",
    "}\n",
    "$Increased.Count"
   ]
  },
  {
   "cell_type": "code",
   "execution_count": null,
   "id": "80f08018-37e6-40e2-9471-fca7e848ad00",
   "metadata": {},
   "outputs": [],
   "source": []
  }
 ],
 "metadata": {
  "kernelspec": {
   "display_name": ".NET (PowerShell)",
   "language": "PowerShell",
   "name": ".net-powershell"
  },
  "language_info": {
   "file_extension": ".ps1",
   "mimetype": "text/x-powershell",
   "name": "PowerShell",
   "pygments_lexer": "powershell",
   "version": "7.0"
  }
 },
 "nbformat": 4,
 "nbformat_minor": 5
}
