{
 "cells": [
  {
   "cell_type": "markdown",
   "id": "ef405ade",
   "metadata": {},
   "source": [
    "# Advent of Code 2021 - PowerShell\n",
    "\n",
    "## Day 3 - Binary Diagnostic\n",
    "\n",
    "[Puzzle Link](https://adventofcode.com/2021/day/3)\n",
    "\n",
    "### Input"
   ]
  },
  {
   "cell_type": "code",
   "execution_count": null,
   "id": "d155ffd7",
   "metadata": {
    "dotnet_interactive": {
     "language": "pwsh"
    }
   },
   "outputs": [],
   "source": [
    "$UseSampleData = $false\n",
    "$DataFile = $UseSampleData ? '..\\PuzzleInput\\day3_sample.txt' : '..\\PuzzleInput\\day3.txt'\n",
    "\n",
    "[string[]]$ReportData = (Get-Content -Path $DataFile -Raw).Split([System.Environment]::NewLine)\n",
    "$DataBits = $ReportData[0].Length"
   ]
  },
  {
   "cell_type": "markdown",
   "id": "4ded5752",
   "metadata": {},
   "source": [
    "### Puzzle 1\n",
    "\n",
    "What is the power consumption of the submarine?"
   ]
  },
  {
   "cell_type": "code",
   "execution_count": null,
   "id": "c89c7541",
   "metadata": {
    "dotnet_interactive": {
     "language": "pwsh"
    }
   },
   "outputs": [
    {
     "name": "stdout",
     "output_type": "stream",
     "text": [
      "Gamma: 000010110001, Epsilon: 111101001110\r\n",
      "Power Consumption: 693486\r\n"
     ]
    }
   ],
   "source": [
    "$Gamma = $Epsilon = [string]::Empty\n",
    "for ($BitPosition = 0; $BitPosition -lt $DataBits; $BitPosition++) {\n",
    "    $BitOn = $ReportData.Where{[string][char[]]$_[$BitPosition] -eq '1'}.Count\n",
    "    $BitOff = $ReportData.Count - $BitOn\n",
    "    $Gamma += $BitOn -ge $BitOff ? '1' : '0'\n",
    "    $Epsilon += $BitOff -le $BitOn ? '0' : '1'\n",
    "}\n",
    "\n",
    "'Gamma: {0}, Epsilon: {1}' -f $Gamma,$Epsilon\n",
    "'Power Consumption: {0}' -f ([Convert]::ToInt32($Gamma,2) * [Convert]::ToInt32($Epsilon,2))\n",
    "\n",
    "# sample data: 198\n",
    "# answer: 693486"
   ]
  },
  {
   "cell_type": "markdown",
   "id": "d834799c",
   "metadata": {},
   "source": [
    "### Puzzle 2\n",
    "\n",
    "What is the life support rating of the submarine?"
   ]
  },
  {
   "cell_type": "code",
   "execution_count": null,
   "id": "245b95f3",
   "metadata": {
    "dotnet_interactive": {
     "language": "pwsh"
    }
   },
   "outputs": [
    {
     "name": "stdout",
     "output_type": "stream",
     "text": [
      "Oxygen Generator: 933, CO2 Scrubber: 3622\r\n",
      "Life Support Rating: 3379326\r\n"
     ]
    }
   ],
   "source": [
    "function Get-Sum {\n",
    "    param($Numbers)\n",
    "    ($Numbers | Measure-Object -Sum).Sum\n",
    "}\n",
    "\n",
    "function Get-AtmosphereRating {\n",
    "    param(\n",
    "        $Readings,\n",
    "        [switch]$ScrubberData,\n",
    "        [int]$DataBits\n",
    "    )\n",
    "    $Position = $DataBits - 1\n",
    "    $Data = $Readings.Clone()\n",
    "    while ($Position -ge 0 -and $Data.Count -gt 1) {        \n",
    "        $Ones = foreach ($Bit in $Data) { ($Bit -band (1 -shl $Position)) -shr $Position }\n",
    "        $Ones = Get-Sum -Numbers $Ones        \n",
    "        $Zeros = $Data.Count - $Ones\n",
    "        if ($ScrubberData) {\n",
    "            $Data = $Zeros -gt $Ones ?\n",
    "            ($Data | Where-Object { $_ -band (1 -shl $Position) }) :\n",
    "            ($Data | Where-Object { -Not ( $_ -band (1 -shl $Position) )})\n",
    "        } else {\n",
    "            $Data = $Zeros -gt $Ones ?\n",
    "            ($Data | Where-Object { -Not ( $_ -band (1 -shl $Position) )}) :\n",
    "            ($Data | Where-Object { $_ -band (1 -shl $Position) })\n",
    "        }\n",
    "        $Position--\n",
    "   }\n",
    "   $Data[0]\n",
    "}\n",
    "\n",
    "$Data = $ReportData | Foreach-Object {[Convert]::ToInt32($_,2)}\n",
    "\n",
    "$O2Data = $Data.Clone()\n",
    "$CO2Data = $Data.Clone()\n",
    "\n",
    "$O2Generator =  Get-AtmosphereRating -Readings $O2Data -DataBits $DataBits\n",
    "$CO2Scrubber =  Get-AtmosphereRating -Readings $CO2Data -DataBits $DataBits -ScrubberData\n",
    "\n",
    "'Oxygen Generator: {0}, CO2 Scrubber: {1}' -f $O2Generator,$CO2Scrubber\n",
    "'Life Support Rating: {0}' -f ($O2Generator * $CO2Scrubber)\n",
    "\n",
    "# sample answer: 230\n",
    "# answer: 3379326"
   ]
  }
 ],
 "metadata": {
  "kernelspec": {
   "display_name": ".NET (PowerShell)",
   "language": "PowerShell",
   "name": ".net-powershell"
  },
  "language_info": {
   "file_extension": ".ps1",
   "mimetype": "text/x-powershell",
   "name": "PowerShell",
   "pygments_lexer": "powershell",
   "version": "7.0"
  }
 },
 "nbformat": 4,
 "nbformat_minor": 5
}
