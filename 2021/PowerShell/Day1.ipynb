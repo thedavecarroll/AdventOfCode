{
 "cells": [
  {
   "cell_type": "markdown",
   "id": "d516a09f-d449-48d5-9422-5e838a5fb876",
   "metadata": {
    "tags": []
   },
   "source": [
    "# Advent of Code 2021 (PowerShell)\n",
    "\n",
    "## Day 1 - Sonar Sweep\n",
    "\n",
    "[Puzzle Link](https://adventofcode.com/2021/day/1)\n",
    "\n",
    "### Input"
   ]
  },
  {
   "cell_type": "code",
   "execution_count": null,
   "id": "0efc4dc6",
   "metadata": {
    "dotnet_interactive": {
     "language": "pwsh"
    }
   },
   "outputs": [],
   "source": [
    "[int[]]$Readings = Get-Content -Path ..\\PuzzleInput\\day1.txt"
   ]
  },
  {
   "cell_type": "markdown",
   "id": "6d14d379",
   "metadata": {},
   "source": [
    "#### Learning Points\n",
    "\n",
    "- By default, `Get-Content` will read the file line by line, creating an array of (string) lines.\n",
    "- You need to compare the current and previous reading as numbers and not as strings.\n",
    "Make PowerShell do the work by *casting* the variable as an array of integers, `[int[]]`.\n",
    "\n",
    "### Puzzle 1\n",
    "\n",
    "Using input file, count the number of times a depth measurement increases."
   ]
  },
  {
   "cell_type": "code",
   "execution_count": null,
   "id": "9df1ab32",
   "metadata": {
    "dotnet_interactive": {
     "language": "pwsh"
    }
   },
   "outputs": [
    {
     "name": "stdout",
     "output_type": "stream",
     "text": [
      "1451\r\n"
     ]
    }
   ],
   "source": [
    "# Direct variable assignment\n",
    "$Increased = for ($Count = 1; $Count -le $Readings.Count; $Count++) {\n",
    "    if ($Readings[$Count] -gt $Readings[$Count-1]) { 1 }\n",
    "}\n",
    "$Increased.Count"
   ]
  },
  {
   "cell_type": "code",
   "execution_count": null,
   "id": "40c42081",
   "metadata": {
    "dotnet_interactive": {
     "language": "pwsh"
    }
   },
   "outputs": [
    {
     "name": "stdout",
     "output_type": "stream",
     "text": [
      "1451\r\n"
     ]
    }
   ],
   "source": [
    "# Incrementing variable\n",
    "$Increased = 0\n",
    "for ($Count = 1; $Count -le $Readings.Count; $Count++) {\n",
    "    if ($Readings[$Count] -gt $Readings[$Count-1]) { $Increased++ }\n",
    "}\n",
    "$Increased"
   ]
  },
  {
   "cell_type": "markdown",
   "id": "48492e25-3f5a-42f9-a8f0-fd773d71796e",
   "metadata": {},
   "source": [
    "#### Learning Points\n",
    "\n",
    "- You will need to use a loop to cycle through each of the readings.\n",
    "I've chosen to use a `for` loop which allows me to initialize a counter, define the condition that ends the loop, and increment the counter.\n",
    "- You can increment or decrement an integer by using `++` or `--`.\n",
    "- Instead of defining a variable that would contain the number of times the readings increased, I wanted to show you that you can assign the results of a `for` loop,\n",
    "and many other loops and expressions, directly to a variable.\n",
    "By doing so, I can output `1` and because of the variable assignment, `$Increased = for (...) { ... }`, it becomes an array of `1's`.\n",
    "To get the answer, I use the array type property, `Count`.\n",
    "- I've also included a second method which will likely take less memory and complete faster.\n",
    "This method uses a simple array indexing to refer to a specific reading, `$Readings[$Count]`.\n",
    "Note that you can also use a mathematical expression.\n",
    "\n",
    "### Puzzle 2\n",
    "\n",
    "Count the number of times the sum of measurements in this sliding window increases from the previous sum."
   ]
  },
  {
   "cell_type": "code",
   "execution_count": null,
   "id": "c13c709e-97bd-48b7-ae88-03a169a76149",
   "metadata": {
    "dotnet_interactive": {
     "language": "pwsh"
    }
   },
   "outputs": [
    {
     "name": "stdout",
     "output_type": "stream",
     "text": [
      "1395\r\n"
     ]
    }
   ],
   "source": [
    "$GroupCount = 0\n",
    "$GroupIncreased = 0\n",
    "do {\n",
    "    $PreviousGroupSum = ($Readings[$GroupCount..($GroupCount+2)] | Measure-Object -Sum).Sum\n",
    "    $CurrentGroupSum = ($Readings[($GroupCount+1)..($GroupCount+3)] | Measure-Object -Sum).Sum\n",
    "    if ($CurrentGroupSum -gt $PreviousGroupSum) {\n",
    "        $GroupIncreased++\n",
    "    }\n",
    "    $GroupCount++\n",
    "} while ($GroupCount -lt $Readings.Count)\n",
    "$GroupIncreased"
   ]
  },
  {
   "cell_type": "markdown",
   "id": "ef405ade",
   "metadata": {},
   "source": [
    "#### Learning Points\n",
    "\n",
    "- Again we will need a loop and I've chosen the `do {...} while (...)` loop.\n",
    "The `do` portion of this loop accepts a list of statements to execute and the `while` portion defines the condition.\n",
    "When the condition is no longer met, the loop ends. \n",
    "- There's a lot going on with lines 4 and 5.\n",
    "The `$Readings` variable still contains the input from the first puzzle.\n",
    "Since we need to group 3 consecutive readings, I'm using a range index of the `$Readings` array.\n",
    "This is a bit more advanced in that I specify the starting and ending index number which returns that portion of the array.\n",
    "For example, if `$GroupCount = 30` then line 4 would mean `$Readings[30..32]`, or give me the 29th, 30th, and 31st item in the array.\n",
    "Many programming and scripting languages uses a zero index, meaning that the first item is at index 0 or position 0.\n",
    "- Once we have the array of 3 readings, we use `Measure-Object -Sum` to sum the three together.\n",
    "- We then access the `Sum` property using dot notation.\n",
    "You can access any property of an object, in this case the object returned by the `Measure-Object` command which is of type `Microsoft.PowerShell.Commands.GenericMeasureInfo`.\n",
    "Pipe any object into `Get-Member` to see the object's type and properties."
   ]
  }
 ],
 "metadata": {
  "kernelspec": {
   "display_name": ".NET (PowerShell)",
   "language": "PowerShell",
   "name": ".net-powershell"
  },
  "language_info": {
   "file_extension": ".ps1",
   "mimetype": "text/x-powershell",
   "name": "PowerShell",
   "pygments_lexer": "powershell",
   "version": "7.0"
  }
 },
 "nbformat": 4,
 "nbformat_minor": 5
}
