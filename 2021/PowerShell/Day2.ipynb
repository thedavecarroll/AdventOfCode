{
 "cells": [
  {
   "cell_type": "markdown",
   "id": "ef405ade",
   "metadata": {},
   "source": [
    "# Advent of Code 2021 - PowerShell\n",
    "\n",
    "## Day 2 - Dive!\n",
    "\n",
    "[Puzzle Link](https://adventofcode.com/2021/day/2)\n",
    "\n",
    "### Input"
   ]
  },
  {
   "cell_type": "code",
   "execution_count": null,
   "id": "d155ffd7",
   "metadata": {
    "dotnet_interactive": {
     "language": "pwsh"
    }
   },
   "outputs": [],
   "source": [
    "$SubMoves = Get-Content -Path ..\\PuzzleInput\\day2.txt"
   ]
  },
  {
   "cell_type": "markdown",
   "id": "4ded5752",
   "metadata": {},
   "source": [
    "### Puzzle 1\n",
    "\n",
    "What do you get if you multiply your final horizontal position by your final depth?"
   ]
  },
  {
   "cell_type": "code",
   "execution_count": null,
   "id": "c89c7541",
   "metadata": {
    "dotnet_interactive": {
     "language": "pwsh"
    }
   },
   "outputs": [
    {
     "name": "stdout",
     "output_type": "stream",
     "text": [
      "Horizontal Position: 1991, Depth 911, Location: 1813801\r\n"
     ]
    }
   ],
   "source": [
    "$Position = 0\n",
    "$Depth = 0\n",
    "foreach ($Move in $SubMoves) {\n",
    "    $Direction,[int]$Distance = $Move.Split(' ')\n",
    "    switch ($Direction) {\n",
    "        'forward'   { $Position += $Distance }\n",
    "        'down'      { $Depth += $Distance }\n",
    "        'up'        { $Depth -= $Distance }\n",
    "    }\n",
    "}\n",
    "'Horizontal Position: {0}, Depth {1}, Location: {2}' -f $Position,$Depth,($Position * $Depth)"
   ]
  },
  {
   "cell_type": "markdown",
   "id": "d834799c",
   "metadata": {},
   "source": [
    "#### Learning Points\n",
    "\n",
    "- Again, I selected another type of loop.\n",
    "Since each move does not rely on others, the `foreach` loop allows us to simply iterate through the array of moves.\n",
    "It will stop when it gets to the end of the list.\n",
    "- Each move, or line in the input file, consists of a direction and a distance.\n",
    "We need to break these up and we can do that by using the `.Split()` method of strings.\n",
    "- And since we know we are going to be using the distance in mathematical expressions, it's best to cast the number as an integer.\n",
    "- PowerShell allows you too assign multiple variables using a single command.\n",
    "Line 4 shows that we want to assign the first piece of the move as `$Direction` and the second piece as `[int]$Distance`.\n",
    "- Next, we need to perform some arithmetic based on the move's direction.\n",
    "We have a possible 3 directions, so a `switch` statement works great here.\n",
    "Given an argument to evaluate, you can specify any number of conditions based on that argument.\n",
    "For each condition, we perform the required math operation.\n",
    "- Instead of providing the raw answer, I wanted to make the output a little more meaningful.\n",
    "For quite some time now, I've defaulted to using the .NET string formatting statement, `-f`.\n",
    "With it, you provide your text in double or single quotes (I prefer single as I can include doubles as strings inside if necessary) with place holders `{#}`.\n",
    "As you can see, the number (#) is zero-indexed.\n",
    "The number of placeholders must match the number of elements on the right-side of the `-f` in the statement.\n",
    "\n",
    "### Puzzle 2\n",
    "\n",
    "With updated instructions, what do you get if you multiply your final horizontal position by your final depth?"
   ]
  },
  {
   "cell_type": "code",
   "execution_count": null,
   "id": "245b95f3",
   "metadata": {
    "dotnet_interactive": {
     "language": "pwsh"
    }
   },
   "outputs": [
    {
     "name": "stdout",
     "output_type": "stream",
     "text": [
      "Horizontal Position: 1991, Depth 984716, Location: 1960569556\r\n"
     ]
    }
   ],
   "source": [
    "$Position = 0\n",
    "$Depth = 0\n",
    "$Aim = 0\n",
    "foreach ($Move in $SubMoves) {\n",
    "    $Direction,[int]$Distance = $Move.Split(' ')\n",
    "    switch ($Direction) {\n",
    "        'forward'   { \n",
    "            $Position += $Distance\n",
    "            $Depth += $Distance * $Aim\n",
    "        }\n",
    "        'down'      { $Aim += $Distance }\n",
    "        'up'        { $Aim -= $Distance }\n",
    "    }\n",
    "}\n",
    "'Horizontal Position: {0}, Depth {1}, Location: {2}' -f $Position,$Depth,($Position * $Depth)"
   ]
  },
  {
   "cell_type": "markdown",
   "id": "0d28b4ae",
   "metadata": {},
   "source": [
    "#### Learning Points\n",
    "\n",
    "- Most of our solution for the first puzzle of day 2 has been used for this puzzle.\n",
    "This is a small but significant concept.\n",
    "Your PowerShell code should be written such that it can easily be reused with or without slight modification.\n",
    "For more complicated requirements, this means writing an advanced function that performs a single thing well.\n",
    "- For the updated requirements, we add the `$Aim` variable and update the `switch` actions/math operations.\n",
    "- In the previous learning point, I failed to mention the `+=` and `-=` assignment operators.\n",
    "Each one adds or subtracts, respectively, the variable by the amount of the value on the right.\n",
    "`Get-Help assignment_operators` will give you the full list."
   ]
  }
 ],
 "metadata": {
  "kernelspec": {
   "display_name": ".NET (PowerShell)",
   "language": "PowerShell",
   "name": ".net-powershell"
  },
  "language_info": {
   "file_extension": ".ps1",
   "mimetype": "text/x-powershell",
   "name": "PowerShell",
   "pygments_lexer": "powershell",
   "version": "7.0"
  }
 },
 "nbformat": 4,
 "nbformat_minor": 5
}
