{
 "cells": [
  {
   "cell_type": "markdown",
   "id": "ef405ade",
   "metadata": {},
   "source": [
    "# Advent of Code 2021 - PowerShell\n",
    "\n",
    "## Day 4 - Giant Squid\n",
    "\n",
    "[Puzzle Link](https://adventofcode.com/2021/day/4)\n",
    "\n",
    "### Input"
   ]
  },
  {
   "cell_type": "code",
   "execution_count": null,
   "id": "d155ffd7",
   "metadata": {
    "dotnet_interactive": {
     "language": "pwsh"
    }
   },
   "outputs": [],
   "source": [
    "$UseSampleData = $true\n",
    "$DataFile = $UseSampleData ? '..\\PuzzleInput\\day4_sample.txt' : '..\\PuzzleInput\\day4.txt'\n",
    "\n",
    "$BingoData = Get-Content -Path $DataFile"
   ]
  },
  {
   "cell_type": "markdown",
   "id": "4ded5752",
   "metadata": {},
   "source": [
    "### Puzzle 1\n",
    "\n",
    "What will be your final score for the winning board?"
   ]
  },
  {
   "cell_type": "code",
   "execution_count": null,
   "id": "c89c7541",
   "metadata": {
    "dotnet_interactive": {
     "language": "pwsh"
    }
   },
   "outputs": [
    {
     "name": "stdout",
     "output_type": "stream",
     "text": [
      "First Winner Board: 2, Winning Number: 24, Score: 4512\r\n"
     ]
    }
   ],
   "source": [
    "class BingoCard {\n",
    "    [int[,]]$Numbers = [int[,]]::CreateInstance([int],5,5)\n",
    "    [bool[,]]$Marked = [bool[,]]::CreateInstance([bool],5,5)\n",
    "\n",
    "    BingoCard([string[]]$CardNumbers) {\n",
    "        for ($row = 0;$row -lt $CardNumbers.Count;$row++) {\n",
    "            [string[]]$RowNumbers = $CardNumbers[$row].split(' ',[System.StringSplitOptions]::RemoveEmptyEntries)\n",
    "            for ($col = 0; $col -lt $RowNumbers.Count;$col++) {\n",
    "                $this.Numbers[$row,$col] = $RowNumbers[$col]\n",
    "            }\n",
    "        }\n",
    "    }\n",
    "\n",
    "    [void] Mark([int]$CalledNumber) {\n",
    "        for ($row = 0; $row -lt 5; $row++) {\n",
    "            for ($col = 0; $col -lt 5; $col++) {\n",
    "                if ($this.Numbers[$row, $col] -eq $CalledNumber) {\n",
    "                    $this.Marked[$row, $col] = $true\n",
    "                }\n",
    "            }\n",
    "        }\n",
    "    }\n",
    "\n",
    "    [bool] HasBingo() {\n",
    "        for ($row = 0; $row -lt 5; $row++) {\n",
    "            if ($this.Marked[$row, 0] -and $this.Marked[$row, 1] -and\n",
    "                $this.Marked[$row, 2] -and $this.Marked[$row, 3] -and\n",
    "                $this.Marked[$row, 4]) {\n",
    "                return $true\n",
    "            }\n",
    "        }\n",
    "        for ($col = 0; $col -lt 5; $col++) {\n",
    "            if ($this.Marked[0, $col] -and $this.Marked[1, $col] -and\n",
    "                $this.Marked[2, $col] -and $this.Marked[3, $col] -and\n",
    "                $this.Marked[4, $col]) {\n",
    "                return $true\n",
    "            }\n",
    "        }\n",
    "        return $false\n",
    "    }\n",
    "    \n",
    "    [int] SumUnmarked() {\n",
    "        $sum = 0\n",
    "        for ($col = 0; $col -lt 5; $col++) {\n",
    "            for ($row = 0; $row -lt 5; $row++) {\n",
    "                if (-not $this.Marked[$row, $col]) {\n",
    "                    $sum += $this.Numbers[$row, $col]\n",
    "                }\n",
    "            }\n",
    "        }\n",
    "        return $sum\n",
    "    }\n",
    "\n",
    "    [string] Results([int]$Card,[int]$Number,[string]$FirstLast) {\n",
    "        $Sum = $this.SumUnmarked()\n",
    "        $Results = '{0} Winner Board: {1}, Winning Number: {2}, Score: {3}' -f $FirstLast,$Card,$Number,($Sum * $Number)\n",
    "        return $Results\n",
    "    }\n",
    "}\n",
    "\n",
    "$BingoCards = for ($row = 2; $row -lt $BingoData.Count;$row+=6) {\n",
    "    [BingoCard]::new($BingoData[$row..($row+4)])\n",
    "}\n",
    "\n",
    "[int[]]$BingoNumbers = $BingoData[0].Split(',')\n",
    "\n",
    ":CallNumbers foreach ($Number in $BingoNumbers) {\n",
    "    for ($Card = 0; $Card -lt $BingoCards.Count; $Card++) {\n",
    "        $BingoCards[$Card].Mark($Number)\n",
    "        if ($BingoCards[$Card].HasBingo()) {\n",
    "            $BingoCards[$Card].Results($Card,$Number,'First')\n",
    "            break CallNumbers\n",
    "        }        \n",
    "    }\n",
    "}\n",
    "\n",
    "# Sample: First Winner Board: 2, Winning Number: 24, Score: 4512\n",
    "# Answer: First Winner Board: 53, Winning Number: 35, Score: 25410"
   ]
  },
  {
   "cell_type": "markdown",
   "id": "ee64afee",
   "metadata": {},
   "source": [
    "### Puzzle 2\n",
    "\n",
    "Figure out which board will win last. Once it wins, what would its final score be?"
   ]
  },
  {
   "cell_type": "code",
   "execution_count": null,
   "id": "f6bcd5a9",
   "metadata": {},
   "outputs": [
    {
     "name": "stdout",
     "output_type": "stream",
     "text": [
      "Last Winner Board: 1, Winning Number: 13, Score: 1924\r\n"
     ]
    }
   ],
   "source": [
    "# reset bingo cards\n",
    "$BingoCards = for ($row = 2; $row -lt $BingoData.Count;$row+=6) {\n",
    "    [BingoCard]::new($BingoData[$row..($row+4)])\n",
    "}\n",
    "\n",
    "$WinningCards = @{}\n",
    ":CallNumbers foreach ($Number in $BingoNumbers) {\n",
    "    for ($Card = 0; $Card -lt $BingoCards.Count; $Card++) {\n",
    "        if ($WinningCards.ContainsKey($Card)) {\n",
    "            continue\n",
    "        }\n",
    "        $BingoCards[$Card].Mark($Number)\n",
    "        if ($BingoCards[$Card].HasBingo()) {\n",
    "            $WinningCards[$Card] = $true\n",
    "            if ($WinningCards.Count -eq $BingoCards.Count) {                                \n",
    "                $BingoCards[$Card].Results($Card,$Number,'Last')\n",
    "                break CallNumbers\n",
    "            }\n",
    "        }        \n",
    "    }\n",
    "}\n",
    "\n",
    "# Sample: Last Winner Board: 1, Winning Number: 13, Score: 1924\n",
    "# Answer: Last Winner Board: 40, Winning Number: 14, Score: 2730"
   ]
  }
 ],
 "metadata": {
  "kernelspec": {
   "display_name": ".NET (PowerShell)",
   "language": "PowerShell",
   "name": ".net-powershell"
  },
  "language_info": {
   "file_extension": ".ps1",
   "mimetype": "text/x-powershell",
   "name": "PowerShell",
   "pygments_lexer": "powershell",
   "version": "7.0"
  }
 },
 "nbformat": 4,
 "nbformat_minor": 5
}
