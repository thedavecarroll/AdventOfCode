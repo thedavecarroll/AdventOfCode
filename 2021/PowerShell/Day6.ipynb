{
 "cells": [
  {
   "cell_type": "markdown",
   "id": "ef405ade",
   "metadata": {},
   "source": [
    "# Advent of Code 2021 - PowerShell\n",
    "\n",
    "## Day 6 - Lanternfish \n",
    "\n",
    "[Puzzle Link](https://adventofcode.com/2021/day/6)\n",
    "\n",
    "### Input"
   ]
  },
  {
   "cell_type": "code",
   "execution_count": null,
   "id": "d155ffd7",
   "metadata": {
    "dotnet_interactive": {
     "language": "pwsh"
    }
   },
   "outputs": [
    {
     "name": "stdout",
     "output_type": "stream",
     "text": [
      "Beginning lanternfish: 5\r\n"
     ]
    }
   ],
   "source": [
    "$UseSampleData = $true\n",
    "$DataFile = $UseSampleData ? '..\\PuzzleInput\\day6_sample.txt' : '..\\PuzzleInput\\day6.txt'\n",
    "\n",
    "[int[]]$Lanternfish = (Get-Content -Path $DataFile) -Split (',')\n",
    "'Beginning lanternfish: {0}' -f $Lanternfish.Count"
   ]
  },
  {
   "cell_type": "markdown",
   "id": "4ded5752",
   "metadata": {},
   "source": [
    "### Puzzle 1 - The Bad Way\n",
    "\n",
    "Find a way to simulate lanternfish. How many lanternfish would there be after 80 days?"
   ]
  },
  {
   "cell_type": "code",
   "execution_count": null,
   "id": "c89c7541",
   "metadata": {
    "dotnet_interactive": {
     "language": "pwsh"
    }
   },
   "outputs": [
    {
     "data": {
      "text/plain": []
     },
     "metadata": {},
     "output_type": "display_data"
    },
    {
     "name": "stdout",
     "output_type": "stream",
     "text": [
      "5934\r\n"
     ]
    }
   ],
   "source": [
    "class Lanternfish {\n",
    "    [ValidateRange(0,8)]\n",
    "    [int]$Timer\n",
    "    [bool]$SpawnReset = $false\n",
    "\n",
    "    Lanternfish([int]$Timer){\n",
    "        $this.Timer = $Timer\n",
    "    }\n",
    "    \n",
    "    [void] AgeDay(){\n",
    "        if ($this.Timer -eq 0) {\n",
    "            $this.Timer = 6\n",
    "            $this.SpawnReset = $true\n",
    "        } else {\n",
    "            $this.Timer--\n",
    "        }              \n",
    "    }\n",
    "    [Lanternfish] Spawn(){\n",
    "        $this.SpawnReset = $false\n",
    "        return [Lanternfish]::new(8)\n",
    "    }\n",
    "}\n",
    "\n",
    "$Initial = $Lanternfish | ForEach-Object { [Lanternfish]::new($_) }\n",
    "\n",
    "$ElapsedTime = [ordered]@{}\n",
    "$AllTimer = [System.Diagnostics.Stopwatch]::StartNew()\n",
    "for ($days = 0;$days -lt 80; $days++) {\n",
    "    Write-Progress -Activity 'Spawning Fish' -Status ('Day {0} - Previous Day Calculation Elapsed Time {1}' -f $days,$AllTimer.Elapsed.ToString())\n",
    "    $Timer = [System.Diagnostics.Stopwatch]::StartNew()    \n",
    "    $Initial.AgeDay()\n",
    "    $Spawners = $Initial.Where({$_.SpawnReset})\n",
    "    foreach ($Parent in $Spawners) {\n",
    "        $Initial += $Parent.Spawn()\n",
    "    }\n",
    "    $ElapsedTime.Add($days,$Timer.Elapsed)\n",
    "}\n",
    "\n",
    "$Initial.Count\n",
    "\n",
    "# Sample: 5934, 1.7s, 5 beginning fish\n",
    "# Answer: 395627, m,s, 300 beginning fish"
   ]
  },
  {
   "cell_type": "markdown",
   "id": "d834799c",
   "metadata": {},
   "source": [
    "The **Bad Way** means that this solution does not scale well.\n",
    "\n",
    "For this puzzle the sample took only 1.7 seconds, but the full data took over 20 minutes. \\[I think the code that finished < 20 minutes is not the current code, as it's taking much longer.\\]\n",
    "\n",
    "![Spawning Fish - The Bad Way](https://github.com/thedavecarroll/AdventOfCode/blob/main/2021/PowerShell/images/spawningfish.png 'Spawning Fish - The Bad Way')\n",
    "\n",
    "Additionally, with puzzle 2 merely upping the days of growth from *80* to *256*, the **Bad Way** was still calculating after 20 hours.\n",
    "I don't know why I even attempted to run it against 256 with the horrible performance.\n",
    "I was tired? \n",
    "\n",
    "### Puzzle 2\n",
    "\n",
    "How many lanternfish would there be after 256 days?\n",
    "\n",
    "TBC (To be coded)"
   ]
  }
 ],
 "metadata": {
  "interpreter": {
   "hash": "b89b5cfaba6639976dc87ff2fec6d58faec662063367e2c229c520fe71072417"
  },
  "kernelspec": {
   "display_name": ".NET (C#)",
   "language": "C#",
   "name": ".net-csharp"
  },
  "language_info": {
   "file_extension": ".cs",
   "mimetype": "text/x-csharp",
   "name": "C#",
   "pygments_lexer": "csharp",
   "version": "9.0"
  }
 },
 "nbformat": 4,
 "nbformat_minor": 5
}
