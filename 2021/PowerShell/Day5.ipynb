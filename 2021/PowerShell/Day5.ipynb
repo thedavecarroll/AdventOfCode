{
 "cells": [
  {
   "cell_type": "markdown",
   "id": "ef405ade",
   "metadata": {},
   "source": [
    "# Advent of Code 2021 - PowerShell\n",
    "\n",
    "## Day 5 - Hydrothermal Venture\n",
    "\n",
    "[Puzzle Link](https://adventofcode.com/2021/day/5)\n",
    "\n",
    "### Input"
   ]
  },
  {
   "cell_type": "code",
   "execution_count": null,
   "id": "d155ffd7",
   "metadata": {
    "dotnet_interactive": {
     "language": "pwsh"
    }
   },
   "outputs": [],
   "source": [
    "$UseSampleData = $false\n",
    "$DataFile = $UseSampleData ? '..\\PuzzleInput\\day5_sample.txt' : '..\\PuzzleInput\\day5.txt'\n",
    "\n",
    "[string[]]$VentLineData = Get-Content -Path $DataFile\n",
    "$Coordinates = foreach ($Line in $VentLineData) {\n",
    "    $Line -match '(?<x1>\\d+),(?<y1>\\d+) -> (?<x2>\\d+),(?<y2>\\d+)' | Out-Null\n",
    "    [PSCustomObject]@{\n",
    "        x1 = [int]$Matches.x1\n",
    "        y1 = [int]$Matches.y1\n",
    "        x2 = [int]$Matches.x2\n",
    "        y2 = [int]$Matches.y2\n",
    "    }\n",
    "}"
   ]
  },
  {
   "cell_type": "markdown",
   "id": "4ded5752",
   "metadata": {},
   "source": [
    "### Puzzle 1\n",
    "\n",
    "Consider only horizontal and vertical lines. At how many points do at least two lines overlap?"
   ]
  },
  {
   "cell_type": "code",
   "execution_count": null,
   "id": "c89c7541",
   "metadata": {
    "dotnet_interactive": {
     "language": "pwsh"
    }
   },
   "outputs": [
    {
     "name": "stdout",
     "output_type": "stream",
     "text": [
      "Overlapping vent lines at 4655 coordinates. \r\n",
      "2x OverlapCount: 4531\r\n",
      "3x OverlapCount: 121\r\n",
      "4x OverlapCount: 3\r\n"
     ]
    }
   ],
   "source": [
    "[int]$MapSize = $Coordinates | Measure-Object -Property x1,y1,x2,y2 -Maximum |\n",
    "    Sort-Object -Property Maximum -Descending |\n",
    "    Select-Object -First 1 -ExpandProperty Maximum\n",
    "\n",
    "[int[,]]$VentLines = [int[,]]::CreateInstance([int],$MapSize+1,$MapSize+1)\n",
    "\n",
    "foreach ($Line in $Coordinates) {\n",
    "    # simplify coordinate referencing\n",
    "    $x1,$y1,$x2,$y2 = $Line.psobject.Properties.value\n",
    "    \n",
    "    if ($x1 -eq $x2) {              # horizontal line\n",
    "        foreach ($y in $y1..$y2) {\n",
    "            $VentLines[$x1,$y]++\n",
    "        }\n",
    "    } elseif ($y1 -eq $y2) {        # vertical line\n",
    "        foreach ($x in $x1..$x2) {\n",
    "            $VentLines[$x,$y1]++\n",
    "        }\n",
    "    }\n",
    "}\n",
    "\n",
    "$MultipleOverlap = $VentLines | Group-Object | Sort-Object -Descending | Where Name -ge 2\n",
    "$TotalOverlapping = $MultipleOverlap | Measure-Object -Property Count -Sum | Select-Object -ExpandProperty Sum\n",
    "\n",
    "'Overlapping vent lines at {0} coordinates. ' -f $TotalOverlapping\n",
    "$MultipleOverlap | ForEach-Object { '{0}x OverlapCount: {1}' -f $_.Name,$_.Count }\n",
    "\n",
    "# Sample: Overlapping vent lines at 5 coordinates\n",
    "# 2x OverlapCount: 5\n",
    "\n",
    "# Answer: Overlapping vent lines at 4655 coordinates. \n",
    "# 2x OverlapCount: 4531\n",
    "# 3x OverlapCount: 121\n",
    "# 4x OverlapCount: 3"
   ]
  },
  {
   "cell_type": "markdown",
   "id": "d834799c",
   "metadata": {},
   "source": [
    "### Puzzle 2\n",
    "\n",
    "Consider all of the lines — horizontal, vertical, and diagonal. At how many points do at least two lines overlap?"
   ]
  },
  {
   "cell_type": "code",
   "execution_count": null,
   "id": "245b95f3",
   "metadata": {
    "dotnet_interactive": {
     "language": "pwsh"
    }
   },
   "outputs": [
    {
     "name": "stdout",
     "output_type": "stream",
     "text": [
      "Overlapping vent lines at 20500 coordinates. \r\n",
      "2x OverlapCount: 18054\r\n",
      "3x OverlapCount: 2218\r\n",
      "4x OverlapCount: 212\r\n",
      "5x OverlapCount: 14\r\n",
      "6x OverlapCount: 2\r\n"
     ]
    }
   ],
   "source": [
    "foreach ($Line in $Coordinates) {\n",
    "    $x1,$y1,$x2,$y2 = $Line.psobject.Properties.value\n",
    "\n",
    "    # skip if both x1 and x2 or y1 and y2 are the same, since we already have that data\n",
    "    if ($x1 -ne $x2 -and ($y1 -ne $y2)) {        \n",
    "        \n",
    "        # easier if x is always increasing\n",
    "        if ($x1 -gt $x2) {\n",
    "            $x1,$y1,$x2,$y2 = $x2,$y2,$x1,$y1\n",
    "        }\n",
    "\n",
    "        $x,$y = $x1,$y1\n",
    "        if ($y1 -gt $y2) {          # down to right\n",
    "            while ($x -le $x2)  {\n",
    "                $VentLines[$x,$y]++\n",
    "                $x++\n",
    "                $y--\n",
    "            }\n",
    "        } else {                    # up to right  \n",
    "            while ($x -le $x2)  {\n",
    "                $VentLines[$x,$y]++\n",
    "                $x++\n",
    "                $y++\n",
    "            }\n",
    "        }\n",
    "    }\n",
    "}\n",
    "\n",
    "$MultipleOverlap = $VentLines | Group-Object | Sort-Object -Descending | Where Name -ge 2\n",
    "$TotalOverlapping = $MultipleOverlap | Measure-Object -Property Count -Sum | Select-Object -ExpandProperty Sum\n",
    "\n",
    "'Overlapping vent lines at {0} coordinates. ' -f $TotalOverlapping\n",
    "$MultipleOverlap | ForEach-Object { '{0}x OverlapCount: {1}' -f $_.Name,$_.Count }\n",
    "\n",
    "# Sample: Overlapping vent lines at 12 coordinates. \n",
    "# 2x OverlapCount: 10\n",
    "# 3x OverlapCount: 2\n",
    "\n",
    "# Answer: Overlapping vent lines at 20500 coordinates. \n",
    "# 2x OverlapCount: 18054\n",
    "# 3x OverlapCount: 2218\n",
    "# 4x OverlapCount: 212\n",
    "# 5x OverlapCount: 14\n",
    " #6x OverlapCount: 2"
   ]
  }
 ],
 "metadata": {
  "kernelspec": {
   "display_name": ".NET (PowerShell)",
   "language": "PowerShell",
   "name": ".net-powershell"
  },
  "language_info": {
   "file_extension": ".ps1",
   "mimetype": "text/x-powershell",
   "name": "PowerShell",
   "pygments_lexer": "powershell",
   "version": "7.0"
  }
 },
 "nbformat": 4,
 "nbformat_minor": 5
}
