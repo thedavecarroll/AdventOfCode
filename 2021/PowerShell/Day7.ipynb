{
 "cells": [
  {
   "cell_type": "markdown",
   "id": "ef405ade",
   "metadata": {},
   "source": [
    "# Advent of Code 2021 - PowerShell\n",
    "\n",
    "## Day 7 - The Treachery of Whales\n",
    "\n",
    "[Puzzle Link](https://adventofcode.com/2021/day/7)\n",
    "\n",
    "### Input"
   ]
  },
  {
   "cell_type": "code",
   "execution_count": null,
   "id": "d155ffd7",
   "metadata": {
    "dotnet_interactive": {
     "language": "pwsh"
    }
   },
   "outputs": [],
   "source": [
    "$UseSampleData = $false\n",
    "$DataFile = $UseSampleData ? '..\\PuzzleInput\\day7_sample.txt' : '..\\PuzzleInput\\day7.txt'\n",
    "\n",
    "[int[]]$CrabSubs = (Get-Content -Path $DataFile -Raw) -Split ','"
   ]
  },
  {
   "cell_type": "markdown",
   "id": "4ded5752",
   "metadata": {},
   "source": [
    "### Puzzle 1\n",
    "\n",
    "Determine the horizontal position that the crabs can align to using the least fuel possible. How much fuel must they spend to align to that position?"
   ]
  },
  {
   "cell_type": "code",
   "execution_count": null,
   "id": "c89c7541",
   "metadata": {
    "dotnet_interactive": {
     "language": "pwsh"
    }
   },
   "outputs": [
    {
     "name": "stdout",
     "output_type": "stream",
     "text": [
      "Position 342 costs 325528 fuel\r\n"
     ]
    }
   ],
   "source": [
    "$Range = $CrabSubs | Measure-Object -Minimum -Maximum\n",
    "\n",
    "$FuelToPosition = @{}\n",
    "foreach ($Position in $Range.Minimum..$Range.Maximum) {\n",
    "    foreach ($Sub in $CrabSubs) {\n",
    "        if ($Sub -ne $Position) {\n",
    "            $FuelToPosition[$Position] += [math]::Abs(($Sub - $Position))\n",
    "        }\n",
    "    }\n",
    "}\n",
    "$FuelRanking = $FuelToPosition.GetEnumerator() | Sort-Object -Property Value | Select-Object -First 1\n",
    "'Position {0} costs {1} fuel' -f $FuelRanking.Name,$FuelRanking.Value\n",
    "\n",
    "# Sample: Position 2 costs 37 fuel, .3s\n",
    "# Answer: Position 342 costs 325528 fuel, 3.1s"
   ]
  },
  {
   "cell_type": "markdown",
   "id": "d834799c",
   "metadata": {},
   "source": [
    "### Puzzle 2\n",
    "\n",
    "Fuel costs are not 1:1, each step costs additive fuel. ! How much fuel must they spend to align to that position?"
   ]
  },
  {
   "cell_type": "code",
   "execution_count": null,
   "id": "245b95f3",
   "metadata": {
    "dotnet_interactive": {
     "language": "pwsh"
    }
   },
   "outputs": [
    {
     "name": "stdout",
     "output_type": "stream",
     "text": [
      "Position 342 costs 325528 fuel\r\n",
      "Position 460 costs 85015836 fuel\r\n"
     ]
    }
   ],
   "source": [
    "function Get-CrabSubTotalFuel {\n",
    "    param([int[]]$CrabSubs,[switch]$VariableFuelCost)    \n",
    "    $Range = $CrabSubs | Measure-Object -Minimum -Maximum\n",
    "    $FuelToPosition = @{}\n",
    "    foreach ($Position in $Range.Minimum..$Range.Maximum) {\n",
    "        foreach ($Sub in $CrabSubs) {\n",
    "            if ($Sub -ne $Position) {                \n",
    "                if ($VariableFuelCost) {\n",
    "                    $MaxCost = [math]::Abs(($Sub - $Position))\n",
    "                    $FuelCost = ($MaxCost + 1) * ($MaxCost) / 2                \n",
    "                } else {\n",
    "                    $FuelCost = [math]::Abs(($Sub - $Position))\n",
    "                }\n",
    "                $FuelToPosition[$Position] += $FuelCost   \n",
    "            }\n",
    "        }\n",
    "    }\n",
    "    $FuelRanking = $FuelToPosition.GetEnumerator() | Sort-Object -Property Value | Select-Object -First 1\n",
    "    'Position {0} costs {1} fuel' -f $FuelRanking.Name,$FuelRanking.Value\n",
    "}\n",
    "\n",
    "Get-CrabSubTotalFuel -CrabSubs $CrabSubs\n",
    "Get-CrabSubTotalFuel -CrabSubs $CrabSubs -VariableFuelCost\n",
    "\n",
    "# Sample: 0.3s\n",
    "# Part 1: Position 2 costs 37 fuel\n",
    "# Part 2: Position 5 costs 168 fuel\n",
    "\n",
    "# Answer: 1.3s\n",
    "# Part 1: Position 342 costs 325528 fuel\n",
    "# Part 2: Position 460 costs 85015836 fuel"
   ]
  }
 ],
 "metadata": {
  "interpreter": {
   "hash": "b89b5cfaba6639976dc87ff2fec6d58faec662063367e2c229c520fe71072417"
  },
  "kernelspec": {
   "display_name": ".NET (C#)",
   "language": "C#",
   "name": ".net-csharp"
  },
  "language_info": {
   "file_extension": ".cs",
   "mimetype": "text/x-csharp",
   "name": "C#",
   "pygments_lexer": "csharp",
   "version": "9.0"
  }
 },
 "nbformat": 4,
 "nbformat_minor": 5
}
