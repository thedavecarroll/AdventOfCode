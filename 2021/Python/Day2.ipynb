{
 "cells": [
  {
   "cell_type": "markdown",
   "metadata": {},
   "source": [
    "# Advent of Code 2021 - Python\n",
    "\n",
    "## Day 2 - Dive!\n",
    "\n",
    "[Puzzle Link](https://adventofcode.com/2021/day/2)\n",
    "\n",
    "### Input"
   ]
  },
  {
   "cell_type": "code",
   "execution_count": 21,
   "metadata": {},
   "outputs": [],
   "source": [
    "use_sample_data = False\n",
    "file_name = '../PuzzleInput/day2_sample.txt' if use_sample_data else '../PuzzleInput/day2.txt'\n",
    "\n",
    "with open(file_name, 'r') as file:  # open file for reading\n",
    "    sub_moves = file.readlines()    # read each line\n",
    "\n",
    "def print_results(position,depth):\n",
    "    print(f'Horizontal Position: {position}, Depth {depth}, Location: {position * depth}')"
   ]
  },
  {
   "cell_type": "markdown",
   "metadata": {},
   "source": [
    "### Puzzle 1"
   ]
  },
  {
   "cell_type": "code",
   "execution_count": 22,
   "metadata": {},
   "outputs": [
    {
     "name": "stdout",
     "output_type": "stream",
     "text": [
      "Horizontal Position: 1991, Depth 911, Location: 1813801\n"
     ]
    }
   ],
   "source": [
    "position = depth = 0\n",
    "for move in sub_moves:\n",
    "    [direction,distance] = move.split()\n",
    "    distance = int(distance)\n",
    "    match direction:\n",
    "        case 'forward':\n",
    "            position += distance\n",
    "        case 'down':\n",
    "            depth += distance\n",
    "        case 'up':\n",
    "            depth -= distance\n",
    "\n",
    "print_results(position,depth)\n",
    "\n",
    "# Sample: 150\n",
    "# Answer: 1813801"
   ]
  },
  {
   "cell_type": "markdown",
   "metadata": {},
   "source": [
    "### Puzzle 2"
   ]
  },
  {
   "cell_type": "code",
   "execution_count": 23,
   "metadata": {},
   "outputs": [
    {
     "name": "stdout",
     "output_type": "stream",
     "text": [
      "Horizontal Position: 1991, Depth 984716, Location: 1960569556\n"
     ]
    }
   ],
   "source": [
    "position = depth = aim = 0\n",
    "for move in sub_moves:\n",
    "    [direction,distance] = move.split()\n",
    "    distance = int(distance)\n",
    "    match direction:\n",
    "        case 'forward':\n",
    "            position += distance\n",
    "            depth += distance * aim\n",
    "        case 'down':\n",
    "            aim += distance\n",
    "        case 'up':\n",
    "            aim -= distance\n",
    "\n",
    "print_results(position,depth)\n",
    "\n",
    "# Sample: 900\n",
    "# Answer: 1960569556"
   ]
  }
 ],
 "metadata": {
  "interpreter": {
   "hash": "b89b5cfaba6639976dc87ff2fec6d58faec662063367e2c229c520fe71072417"
  },
  "kernelspec": {
   "display_name": "Python 3.10.0 64-bit",
   "language": "python",
   "name": "python3"
  },
  "language_info": {
   "codemirror_mode": {
    "name": "ipython",
    "version": 3
   },
   "file_extension": ".py",
   "mimetype": "text/x-python",
   "name": "python",
   "nbconvert_exporter": "python",
   "pygments_lexer": "ipython3",
   "version": "3.10.0"
  },
  "orig_nbformat": 4
 },
 "nbformat": 4,
 "nbformat_minor": 2
}
