{
 "cells": [
  {
   "cell_type": "markdown",
   "metadata": {},
   "source": [
    "# Advent of Code 2021 - Python\n",
    "\n",
    "## Day 1 - Sonar Sweep\n",
    "\n",
    "[Puzzle Link](https://adventofcode.com/2021/day/1)\n",
    "\n",
    "### Input"
   ]
  },
  {
   "cell_type": "code",
   "execution_count": 29,
   "metadata": {},
   "outputs": [],
   "source": [
    "use_sample_data = False\n",
    "file_name = '../PuzzleInput/day1_sample.txt' if use_sample_data else '../PuzzleInput/day1.txt'\n",
    "\n",
    "with open(file_name, 'r') as file:          # open file for reading\n",
    "    readings = [int(line) for line in file] # read each line and strip any trailing space, casting to integer"
   ]
  },
  {
   "cell_type": "markdown",
   "metadata": {},
   "source": [
    "### Puzzle 1"
   ]
  },
  {
   "cell_type": "code",
   "execution_count": 30,
   "metadata": {},
   "outputs": [
    {
     "name": "stdout",
     "output_type": "stream",
     "text": [
      "depth measurement increased: 1451\n"
     ]
    }
   ],
   "source": [
    "increased = 0                                           # initialize counter\n",
    "for i in range(1,len(readings)):                        # create for loop using range function, starting with 1\n",
    "    if readings[i] > readings[i-1]:                     # define condition\n",
    "        increased += 1                                  # increment counter\n",
    "print(f'depth measurement increased: {increased}')      # print the number of times the depth reading increased using literal string interpolation\n",
    "\n",
    "# sample answer: 7\n",
    "# answer: 1451"
   ]
  },
  {
   "cell_type": "markdown",
   "metadata": {},
   "source": [
    "### Puzzle 2"
   ]
  },
  {
   "cell_type": "code",
   "execution_count": 31,
   "metadata": {},
   "outputs": [
    {
     "name": "stdout",
     "output_type": "stream",
     "text": [
      "depth sums larger that previous: 1395\n"
     ]
    }
   ],
   "source": [
    "group_increased = 0                                         # initialize counter \n",
    "for i in range(1,len(readings)):                            # create for loop using range function, starting with 1\n",
    "    previous = readings[i-1:i+2]                            # get previous window using ranged index\n",
    "    current = readings[i:i+3]                               # get current window using ranged index\n",
    "    if sum(current) > sum(previous):                        # compare sum of current window with previous window\n",
    "        group_increased += 1                                # increment counter\n",
    "print('depth sums larger that previous:', group_increased)  # print the result\n",
    "\n",
    "# sample answer: 5\n",
    "# answer: 1395"
   ]
  },
  {
   "cell_type": "markdown",
   "metadata": {},
   "source": [
    "#### Slightly More Advanced\n",
    "\n",
    "- By creating a function, we can reduce the amount of duplicated code.\n",
    "- You can set a default value for a function parameter, for example `window = 1`.\n",
    "- The `zip()` function returns an iterator of tuples"
   ]
  },
  {
   "cell_type": "code",
   "execution_count": 32,
   "metadata": {},
   "outputs": [
    {
     "name": "stdout",
     "output_type": "stream",
     "text": [
      "depth measurement increased: 1451\n",
      "depth sums larger that previous: 1395\n"
     ]
    }
   ],
   "source": [
    "def get_depth_increases(readings,window = 1):\n",
    "    return sum(previous < current for previous,current in zip(readings,readings[window:]))\n",
    "\n",
    "print('depth measurement increased:',get_depth_increases(readings))\n",
    "print('depth sums larger that previous:',get_depth_increases(readings,3))"
   ]
  }
 ],
 "metadata": {
  "interpreter": {
   "hash": "b89b5cfaba6639976dc87ff2fec6d58faec662063367e2c229c520fe71072417"
  },
  "kernelspec": {
   "display_name": "Python 3.10.0 64-bit",
   "language": "python",
   "name": "python3"
  },
  "language_info": {
   "codemirror_mode": {
    "name": "ipython",
    "version": 3
   },
   "file_extension": ".py",
   "mimetype": "text/x-python",
   "name": "python",
   "nbconvert_exporter": "python",
   "pygments_lexer": "ipython3",
   "version": "3.10.0"
  },
  "orig_nbformat": 4
 },
 "nbformat": 4,
 "nbformat_minor": 2
}
