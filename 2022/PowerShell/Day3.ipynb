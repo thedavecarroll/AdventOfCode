{
 "cells": [
  {
   "cell_type": "markdown",
   "metadata": {},
   "source": [
    "# Advent of Code 2022 - PowerShell\n",
    "\n",
    "## Day - 3\n",
    "\n",
    "[Puzzle Link](https://adventofcode.com/2022/day/3)"
   ]
  },
  {
   "cell_type": "markdown",
   "metadata": {},
   "source": [
    "### Input and Common Functions"
   ]
  },
  {
   "cell_type": "code",
   "execution_count": 1,
   "metadata": {
    "dotnet_interactive": {
     "language": "pwsh"
    },
    "vscode": {
     "languageId": "dotnet-interactive.pwsh"
    }
   },
   "outputs": [],
   "source": [
    "function Get-DataSet {\n",
    "    param([switch]$UseSampleData)\n",
    "    $DataFile = $UseSampleData.IsPresent ? '..\\PuzzleInput\\day3_sample.txt' : '..\\PuzzleInput\\day3.txt'\n",
    "    Get-Content -Path $DataFile\n",
    "}"
   ]
  },
  {
   "cell_type": "markdown",
   "metadata": {},
   "source": [
    "### Puzzle 1\n",
    "\n",
    "Find the item type that appears in both compartments of each rucksack. What is the sum of the priorities of those item types?\n",
    "\n",
    "#### Sample"
   ]
  },
  {
   "cell_type": "code",
   "execution_count": 2,
   "metadata": {
    "dotnet_interactive": {
     "language": "pwsh"
    },
    "vscode": {
     "languageId": "dotnet-interactive.pwsh"
    }
   },
   "outputs": [
    {
     "name": "stdout",
     "output_type": "stream",
     "text": [
      "Sum of priorites is : 157\r\n"
     ]
    }
   ],
   "source": [
    "$Rucksacks = Get-DataSet -UseSampleData\n",
    "\n",
    "$Sum = 0\n",
    "$Priority = [char]'a'..[char]'z' + [char]'A'..[char]'Z'\n",
    "foreach ($Sack in $Rucksacks) {\n",
    "    $CompartmentItemCount = $Sack.Length / 2\n",
    "    $Compartment1 = $Sack.ToCharArray() | Select-Object -First $CompartmentItemCount\n",
    "    $Compartment2 = $Sack.ToCharArray() | Select-Object -Last $CompartmentItemCount\n",
    "    $CommonItem = (Compare-Object -ReferenceObject $Compartment1 -DifferenceObject $Compartment2 -IncludeEqual | Where-Object SideIndicator -eq '==').InputObject[0]\n",
    "    $Sum += $Priority.IndexOf([char]$CommonItem) + 1\n",
    "}\n",
    "'Sum of priorites is : {0}' -f $Sum"
   ]
  },
  {
   "cell_type": "markdown",
   "metadata": {},
   "source": [
    "#### Full Data"
   ]
  },
  {
   "cell_type": "code",
   "execution_count": 3,
   "metadata": {
    "dotnet_interactive": {
     "language": "pwsh"
    },
    "vscode": {
     "languageId": "dotnet-interactive.pwsh"
    }
   },
   "outputs": [
    {
     "name": "stdout",
     "output_type": "stream",
     "text": [
      "Sum of priorites is : 7727\r\n"
     ]
    }
   ],
   "source": [
    "$Rucksacks = Get-DataSet\n",
    "\n",
    "$Sum = 0\n",
    "$Priority = [char]'a'..[char]'z' + [char]'A'..[char]'Z'\n",
    "foreach ($Sack in $Rucksacks) {\n",
    "    $CompartmentItemCount = $Sack.Length / 2\n",
    "    $Compartment1 = $Sack.ToCharArray() | Select-Object -First $CompartmentItemCount\n",
    "    $Compartment2 = $Sack.ToCharArray() | Select-Object -Last $CompartmentItemCount\n",
    "    $CommonItem = (Compare-Object -ReferenceObject $Compartment1 -DifferenceObject $Compartment2 -IncludeEqual | Where-Object SideIndicator -eq '==').InputObject[0]\n",
    "    $Sum += $Priority.IndexOf([char]$CommonItem) + 1\n",
    "}\n",
    "'Sum of priorites is : {0}' -f $Sum"
   ]
  },
  {
   "cell_type": "markdown",
   "metadata": {},
   "source": [
    "***\n",
    "\n",
    "### Puzzle 2\n",
    "\n",
    "Find the item type that corresponds to the badges of each three-Elf group. What is the sum of the priorities of those item types?\n",
    "\n",
    "#### Sample"
   ]
  },
  {
   "cell_type": "code",
   "execution_count": 4,
   "metadata": {
    "dotnet_interactive": {
     "language": "pwsh"
    },
    "vscode": {
     "languageId": "dotnet-interactive.pwsh"
    }
   },
   "outputs": [
    {
     "name": "stdout",
     "output_type": "stream",
     "text": [
      "Sum of priorites is : 70\r\n"
     ]
    }
   ],
   "source": [
    "$Rucksacks = Get-DataSet -UseSampleData\n",
    "\n",
    "$Sum = 0\n",
    "$Priority = [char]'a'..[char]'z' + [char]'A'..[char]'Z'\n",
    "for ($i=0;$i -lt $Rucksacks.Count;$i += 3) {\n",
    "    $Elf1 = $Rucksacks[$i].ToCharArray()\n",
    "    $Elf2 = $Rucksacks[$i+1].ToCharArray()\n",
    "    $Elf3 = $Rucksacks[$i+2].ToCharArray()\n",
    "    $CompareBadge = (Compare-Object -ReferenceObject $Elf1 -DifferenceObject $Elf2 -IncludeEqual | Where-Object SideIndicator -eq '==').InputObject\n",
    "    $CompareBadge = (Compare-Object -ReferenceObject $CompareBadge -DifferenceObject $Elf3 -IncludeEqual | Where-Object SideIndicator -eq '==').InputObject[0]\n",
    "    $Sum += $Priority.IndexOf([char]$CompareBadge) + 1\n",
    "}\n",
    "'Sum of priorites is : {0}' -f $Sum"
   ]
  },
  {
   "cell_type": "markdown",
   "metadata": {},
   "source": [
    "#### Full Data"
   ]
  },
  {
   "cell_type": "code",
   "execution_count": 5,
   "metadata": {
    "dotnet_interactive": {
     "language": "pwsh"
    },
    "vscode": {
     "languageId": "dotnet-interactive.pwsh"
    }
   },
   "outputs": [
    {
     "name": "stdout",
     "output_type": "stream",
     "text": [
      "Sum of priorites is : 2609\r\n"
     ]
    }
   ],
   "source": [
    "$Rucksacks = Get-DataSet\n",
    "\n",
    "$Sum = 0\n",
    "$Priority = [char]'a'..[char]'z' + [char]'A'..[char]'Z'\n",
    "for ($i=0;$i -lt $Rucksacks.Count;$i += 3) {\n",
    "    $Elf1 = $Rucksacks[$i].ToCharArray()\n",
    "    $Elf2 = $Rucksacks[$i+1].ToCharArray()\n",
    "    $Elf3 = $Rucksacks[$i+2].ToCharArray()\n",
    "    $CompareBadge = (Compare-Object -ReferenceObject $Elf1 -DifferenceObject $Elf2 -IncludeEqual | Where-Object SideIndicator -eq '==').InputObject\n",
    "    $CompareBadge = (Compare-Object -ReferenceObject $CompareBadge -DifferenceObject $Elf3 -IncludeEqual | Where-Object SideIndicator -eq '==').InputObject[0]\n",
    "    $Sum += $Priority.IndexOf([char]$CompareBadge) + 1\n",
    "}\n",
    "'Sum of priorites is : {0}' -f $Sum"
   ]
  }
 ],
 "metadata": {
  "kernelspec": {
   "display_name": ".NET (C#)",
   "language": "C#",
   "name": ".net-csharp"
  },
  "language_info": {
   "file_extension": ".cs",
   "mimetype": "text/x-csharp",
   "name": "C#",
   "pygments_lexer": "csharp",
   "version": "9.0"
  },
  "orig_nbformat": 4,
  "vscode": {
   "interpreter": {
    "hash": "96ea463da8b265c951058de84b9645eca36b660a1a779c7b0eff4941594f7f98"
   }
  }
 },
 "nbformat": 4,
 "nbformat_minor": 2
}
