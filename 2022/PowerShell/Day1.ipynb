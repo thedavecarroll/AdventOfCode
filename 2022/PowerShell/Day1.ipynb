{
 "cells": [
  {
   "cell_type": "markdown",
   "metadata": {},
   "source": [
    "# Advent of Code 2022 - PowerShell\n",
    "\n",
    "## Day - 1\n",
    "\n",
    "[Puzzle Link](https://adventofcode.com/2022/day/1)\n",
    "\n",
    "### Input and Common Functions"
   ]
  },
  {
   "cell_type": "code",
   "execution_count": 59,
   "metadata": {
    "dotnet_interactive": {
     "language": "pwsh"
    },
    "vscode": {
     "languageId": "dotnet-interactive.pwsh"
    }
   },
   "outputs": [],
   "source": [
    "function Get-DataSet {\n",
    "    param([switch]$UseSampleData)\n",
    "    $DataFile = $UseSampleData.IsPresent ? '..\\PuzzleInput\\day1_sample.txt' : '..\\PuzzleInput\\day1.txt'\n",
    "    Get-Content -Path $DataFile\n",
    "}\n",
    "\n",
    "function Get-ElfCalories {\n",
    "    param([string[]]$Data)\n",
    "    $Elves = @{}\n",
    "    $ElfCount = 1\n",
    "    for ($i=0;$i -le $Data.Count;$i++) {\n",
    "        $ElfNumber = 'Elf-{0}' -f $ElfCount\n",
    "        if ($Data[$i] -ne '') {\n",
    "            if (-Not $Elves.ContainsKey($ElfNumber)) {\n",
    "                [int]$Elves[$ElfNumber] = $Data[$i]\n",
    "            } else {\n",
    "                [int]$Elves[$ElfNumber] = $Elves[$ElfNumber] + $Data[$i]\n",
    "            }\n",
    "        } else {\n",
    "            $ElfCount++\n",
    "        }\n",
    "    }\n",
    "    $Elves\n",
    "}"
   ]
  },
  {
   "cell_type": "markdown",
   "metadata": {},
   "source": [
    "### Puzzle 1\n",
    "\n",
    "Find the Elf carrying the most Calories. How many total Calories is that Elf carrying?\n",
    "\n",
    "#### Sample"
   ]
  },
  {
   "cell_type": "code",
   "execution_count": 60,
   "metadata": {
    "dotnet_interactive": {
     "language": "pwsh"
    },
    "vscode": {
     "languageId": "dotnet-interactive.pwsh"
    }
   },
   "outputs": [
    {
     "name": "stdout",
     "output_type": "stream",
     "text": [
      "Elf-4 carries the maximum Calories with 24000\r\n"
     ]
    }
   ],
   "source": [
    "$Elves = Get-ElfCalories -Data (Get-DataSet -UseSampleData)\n",
    "$MaxCalories = ($Elves.GetEnumerator() | Measure-Object -Maximum Value).Maximum\n",
    "$TheElf = ($Elves.GetEnumerator() | Where-Object Value -eq $MaxCalories).Name\n",
    "'{0} carries the maximum Calories with {1}' -f $TheElf,$MaxCalories"
   ]
  },
  {
   "cell_type": "markdown",
   "metadata": {},
   "source": [
    "#### Full Data"
   ]
  },
  {
   "cell_type": "code",
   "execution_count": 61,
   "metadata": {
    "dotnet_interactive": {
     "language": "pwsh"
    },
    "vscode": {
     "languageId": "dotnet-interactive.pwsh"
    }
   },
   "outputs": [
    {
     "name": "stdout",
     "output_type": "stream",
     "text": [
      "Elf-184 carries the maximum Calories with 67450\r\n"
     ]
    }
   ],
   "source": [
    "$Elves = Get-ElfCalories -Data (Get-DataSet)\n",
    "$MaxCalories = ($Elves.GetEnumerator() | Measure-Object -Maximum Value).Maximum\n",
    "$TheElf = ($Elves.GetEnumerator() | Where-Object Value -eq $MaxCalories).Name\n",
    "'{0} carries the maximum Calories with {1}' -f $TheElf,$MaxCalories"
   ]
  },
  {
   "cell_type": "markdown",
   "metadata": {},
   "source": [
    "***\n",
    "\n",
    "### Puzzle 2\n",
    "\n",
    "Find the top three Elves carrying the most Calories. How many Calories are those Elves carrying in total?\n",
    "\n",
    "#### Sample"
   ]
  },
  {
   "cell_type": "code",
   "execution_count": 62,
   "metadata": {
    "dotnet_interactive": {
     "language": "pwsh"
    },
    "vscode": {
     "languageId": "dotnet-interactive.pwsh"
    }
   },
   "outputs": [
    {
     "name": "stdout",
     "output_type": "stream",
     "text": [
      "The 3 elves carrying the most Calories are carrying a total 45000\r\n",
      "They are: Elf-4, Elf-3, Elf-5\r\n"
     ]
    }
   ],
   "source": [
    "$Elves = Get-ElfCalories -Data (Get-DataSet -UseSampleData)\n",
    "$Top3Elves = $Elves.GetEnumerator() | Sort-Object Value -Descending | Select-Object -First 3\n",
    "$TotalCalories = ($Top3Elves | Measure-Object Value -Sum).Sum\n",
    "'The 3 elves carrying the most Calories are carrying a total {0}' -f $TotalCalories\n",
    "'They are: {0}' -f ($Top3Elves.Name -join ', ')"
   ]
  },
  {
   "cell_type": "markdown",
   "metadata": {},
   "source": [
    "#### Full Data"
   ]
  },
  {
   "cell_type": "code",
   "execution_count": 63,
   "metadata": {
    "dotnet_interactive": {
     "language": "pwsh"
    },
    "vscode": {
     "languageId": "dotnet-interactive.pwsh"
    }
   },
   "outputs": [
    {
     "name": "stdout",
     "output_type": "stream",
     "text": [
      "The 3 elves carrying the most Calories are carrying a total 199357\r\n",
      "They are: Elf-184, Elf-150, Elf-224\r\n"
     ]
    }
   ],
   "source": [
    "$Elves = Get-ElfCalories -Data (Get-DataSet)\n",
    "$Top3Elves = $Elves.GetEnumerator() | Sort-Object Value -Descending | Select-Object -First 3\n",
    "$TotalCalories = ($Top3Elves | Measure-Object Value -Sum).Sum\n",
    "'The 3 elves carrying the most Calories are carrying a total {0}' -f $TotalCalories\n",
    "'They are: {0}' -f ($Top3Elves.Name -join ', ')"
   ]
  }
 ],
 "metadata": {
  "kernelspec": {
   "display_name": ".NET (C#)",
   "language": "C#",
   "name": ".net-csharp"
  },
  "language_info": {
   "file_extension": ".cs",
   "mimetype": "text/x-csharp",
   "name": "C#",
   "pygments_lexer": "csharp",
   "version": "9.0"
  },
  "orig_nbformat": 4,
  "vscode": {
   "interpreter": {
    "hash": "96ea463da8b265c951058de84b9645eca36b660a1a779c7b0eff4941594f7f98"
   }
  }
 },
 "nbformat": 4,
 "nbformat_minor": 2
}
