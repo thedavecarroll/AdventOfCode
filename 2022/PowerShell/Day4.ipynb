{
 "cells": [
  {
   "cell_type": "markdown",
   "metadata": {},
   "source": [
    "# Advent of Code 2022 - PowerShell\n",
    "\n",
    "## Day - 4\n",
    "\n",
    "[Puzzle Link](https://adventofcode.com/2022/day/4)"
   ]
  },
  {
   "cell_type": "markdown",
   "metadata": {},
   "source": [
    "### Input and Common Functions"
   ]
  },
  {
   "cell_type": "code",
   "execution_count": 34,
   "metadata": {
    "dotnet_interactive": {
     "language": "pwsh"
    },
    "vscode": {
     "languageId": "dotnet-interactive.pwsh"
    }
   },
   "outputs": [],
   "source": [
    "function Get-DataSet {\n",
    "    param([switch]$UseSampleData)\n",
    "    $DataFile = $UseSampleData.IsPresent ? '..\\PuzzleInput\\day4_sample.txt' : '..\\PuzzleInput\\day4.txt'\n",
    "    Get-Content -Path $DataFile\n",
    "}"
   ]
  },
  {
   "cell_type": "markdown",
   "metadata": {},
   "source": [
    "### Puzzle 1\n",
    "\n",
    "In how many assignment pairs does one range fully contain the other?\n",
    "\n",
    "#### Sample"
   ]
  },
  {
   "cell_type": "code",
   "execution_count": 35,
   "metadata": {
    "dotnet_interactive": {
     "language": "pwsh"
    },
    "vscode": {
     "languageId": "dotnet-interactive.pwsh"
    }
   },
   "outputs": [
    {
     "name": "stdout",
     "output_type": "stream",
     "text": [
      "Assignment pairs contained in the other: 2\r\n"
     ]
    }
   ],
   "source": [
    "$AssignmentPairs = Get-DataSet -UseSampleData\n",
    "\n",
    "$Contained = 0\n",
    "[int]$ElfOneStart = $ElfOneEnd = $ElfTwoStart = $ElfTwoEnd = 0\n",
    "foreach ($Pair in $AssignmentPairs) {\n",
    "    $ElfOne,$ElfTwo = $Pair.Split(',')\n",
    "    $ElfOneStart,$ElfOneEnd,$ElfTwoStart,$ElfTwoEnd = $ElfOne.Split('-') + $ElfTwo.Split('-')\n",
    "    if ($ElfOneStart -ge $ElfTwoStart -and $ElfOneEnd -le $ElfTwoEnd) {\n",
    "        $Contained++\n",
    "    } elseif ($ElfTwoStart -ge $ElfOneStart -and $ElfTwoEnd -le $ElfOneEnd) {\n",
    "        $Contained++\n",
    "    }\n",
    "}\n",
    "'Assignment pairs contained in the other: {0}' -f $Contained"
   ]
  },
  {
   "cell_type": "markdown",
   "metadata": {},
   "source": [
    "#### Full Data"
   ]
  },
  {
   "cell_type": "code",
   "execution_count": 36,
   "metadata": {
    "dotnet_interactive": {
     "language": "pwsh"
    },
    "vscode": {
     "languageId": "dotnet-interactive.pwsh"
    }
   },
   "outputs": [
    {
     "name": "stdout",
     "output_type": "stream",
     "text": [
      "Assignment pairs contained in the other: 595\r\n"
     ]
    }
   ],
   "source": [
    "$AssignmentPairs = Get-DataSet\n",
    "\n",
    "$Contained = 0\n",
    "[int]$ElfOneStart = $ElfOneEnd = $ElfTwoStart = $ElfTwoEnd = 0\n",
    "foreach ($Pair in $AssignmentPairs) {\n",
    "    $ElfOne,$ElfTwo = $Pair.Split(',')\n",
    "    $ElfOneStart,$ElfOneEnd,$ElfTwoStart,$ElfTwoEnd = $ElfOne.Split('-') + $ElfTwo.Split('-')\n",
    "    if ($ElfOneStart -ge $ElfTwoStart -and $ElfOneEnd -le $ElfTwoEnd) {\n",
    "        $Contained++\n",
    "    } elseif ($ElfTwoStart -ge $ElfOneStart -and $ElfTwoEnd -le $ElfOneEnd) {\n",
    "        $Contained++\n",
    "    }\n",
    "}\n",
    "'Assignment pairs contained in the other: {0}' -f $Contained\n",
    "\n",
    "# 611 is not right\n",
    "# 21 is not right\n",
    "# 276 is not right\n",
    "# 608 is not right"
   ]
  },
  {
   "cell_type": "markdown",
   "metadata": {},
   "source": [
    "***\n",
    "\n",
    "### Puzzle 2\n",
    "\n",
    "In how many assignment pairs do the ranges overlap?\n",
    "\n",
    "#### Sample"
   ]
  },
  {
   "cell_type": "code",
   "execution_count": 37,
   "metadata": {
    "dotnet_interactive": {
     "language": "pwsh"
    },
    "vscode": {
     "languageId": "dotnet-interactive.pwsh"
    }
   },
   "outputs": [
    {
     "name": "stdout",
     "output_type": "stream",
     "text": [
      "Assignment pairs with overlap: 4\r\n"
     ]
    }
   ],
   "source": [
    "$AssignmentPairs = Get-DataSet -UseSampleData\n",
    "\n",
    "[int]$ElfOneStart = $ElfOneEnd = $ElfTwoStart = $ElfTwoEnd = 0\n",
    "$Overlap = 0\n",
    "foreach ($Pair in $AssignmentPairs) {\n",
    "    $ElfOne,$ElfTwo = $Pair.Split(',')\n",
    "    $ElfOneStart,$ElfOneEnd,$ElfTwoStart,$ElfTwoEnd = $ElfOne.Split('-') + $ElfTwo.Split('-')\n",
    "    if ($ElfOneStart -in $ElfTwoStart..$ElfTwoEnd) {\n",
    "        $Overlap++\n",
    "    } elseif ($ElfOneEnd -in $ElfTwoStart..$ElfTwoEnd) {\n",
    "        $Overlap++\n",
    "    } elseif ($ElfTwoStart -in $ElfOneStart..$ElfOneEnd) {\n",
    "        $Overlap++\n",
    "    } elseif ($ElfTwoEnd -in $ElfOneEnd..$ElfOneEnd) {\n",
    "        $Overlap++\n",
    "    }\n",
    "}\n",
    "'Assignment pairs with overlap: {0}' -f $Overlap"
   ]
  },
  {
   "cell_type": "markdown",
   "metadata": {},
   "source": [
    "#### Full Data"
   ]
  },
  {
   "cell_type": "code",
   "execution_count": 38,
   "metadata": {
    "dotnet_interactive": {
     "language": "pwsh"
    },
    "vscode": {
     "languageId": "dotnet-interactive.pwsh"
    }
   },
   "outputs": [
    {
     "name": "stdout",
     "output_type": "stream",
     "text": [
      "Assignment pairs with overlap: 952\r\n"
     ]
    }
   ],
   "source": [
    "$AssignmentPairs = Get-DataSet\n",
    "\n",
    "[int]$ElfOneStart = $ElfOneEnd = $ElfTwoStart = $ElfTwoEnd = 0\n",
    "$Overlap = 0\n",
    "foreach ($Pair in $AssignmentPairs) {\n",
    "    $ElfOne,$ElfTwo = $Pair.Split(',')\n",
    "    $ElfOneStart,$ElfOneEnd,$ElfTwoStart,$ElfTwoEnd = $ElfOne.Split('-') + $ElfTwo.Split('-')\n",
    "    if ($ElfOneStart -in $ElfTwoStart..$ElfTwoEnd) {\n",
    "        $Overlap++\n",
    "    } elseif ($ElfOneEnd -in $ElfTwoStart..$ElfTwoEnd) {\n",
    "        $Overlap++\n",
    "    } elseif ($ElfTwoStart -in $ElfOneStart..$ElfOneEnd) {\n",
    "        $Overlap++\n",
    "    } elseif ($ElfTwoEnd -in $ElfOneEnd..$ElfOneEnd) {\n",
    "        $Overlap++\n",
    "    }\n",
    "}\n",
    "'Assignment pairs with overlap: {0}' -f $Overlap"
   ]
  }
 ],
 "metadata": {
  "kernelspec": {
   "display_name": ".NET (C#)",
   "language": "C#",
   "name": ".net-csharp"
  },
  "language_info": {
   "file_extension": ".cs",
   "mimetype": "text/x-csharp",
   "name": "C#",
   "pygments_lexer": "csharp",
   "version": "9.0"
  },
  "orig_nbformat": 4,
  "vscode": {
   "interpreter": {
    "hash": "96ea463da8b265c951058de84b9645eca36b660a1a779c7b0eff4941594f7f98"
   }
  }
 },
 "nbformat": 4,
 "nbformat_minor": 2
}
