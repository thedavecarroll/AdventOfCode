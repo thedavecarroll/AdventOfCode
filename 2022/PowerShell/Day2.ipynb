{
 "cells": [
  {
   "cell_type": "markdown",
   "metadata": {},
   "source": [
    "# Advent of Code 2022 - PowerShell\n",
    "\n",
    "## Day - 2\n",
    "\n",
    "[Puzzle Link](https://adventofcode.com/2022/day/2)\n"
   ]
  },
  {
   "cell_type": "markdown",
   "metadata": {},
   "source": [
    "### Input and Common Functions\n",
    "\n",
    "|Shape | Letter | Score |\n",
    "|-|-|-|\n",
    "|Rock | A, X | 1 |\n",
    "|Paper | B, Y | 2 |\n",
    "|Scissors | C, Z | 3 |\n",
    "\n",
    "Rock > Scissors > Paper > Rock\n"
   ]
  },
  {
   "cell_type": "code",
   "execution_count": 12,
   "metadata": {
    "dotnet_interactive": {
     "language": "pwsh"
    },
    "vscode": {
     "languageId": "dotnet-interactive.pwsh"
    }
   },
   "outputs": [],
   "source": [
    "function Get-DataSet {\n",
    "    param([switch]$UseSampleData)\n",
    "    $DataFile = $UseSampleData.IsPresent ? '..\\PuzzleInput\\day2_sample.txt' : '..\\PuzzleInput\\day2.txt'\n",
    "    Get-Content -Path $DataFile\n",
    "}\n",
    "\n",
    "\n",
    "# function Get-RoundScore {\n",
    "#     [CmdletBinding()]\n",
    "#     param(\n",
    "#         [string]$Round\n",
    "#     )\n",
    "\n",
    "#     $Opponent,$Self = $Round.Split(' ')\n",
    "\n",
    "#     $ResultMatrix = @{\n",
    "#         # A = @{ Win = 'Z'; Draw = 'X'; Lose = 'Y' } # Rock beats Scissors\n",
    "#         # B = @{ Win = 'Z'; Draw = 'Y'; Lose = 'X' }\n",
    "#         # C = @{ Win = 'X'; Draw = 'Z'; Lose = 'Y' }\n",
    "#         X = @{ Win = 'C'; Draw = 'A'; Lose = 'B' }\n",
    "#         Y = @{ Win = 'A'; Draw = 'B'; Lose = 'C' }\n",
    "#         Z = @{ Win = 'B'; Draw = 'C'; Lose = 'A' }\n",
    "#     }\n",
    "\n",
    "#     # $Outcome = switch ($Self) {\n",
    "#     #     'X' { 'Lose' ; break }\n",
    "#     #     'Y' { 'Draw' ; break }\n",
    "#     #     'Z' { 'Win'  ; break }\n",
    "#     # }\n",
    "\n",
    "#     # if ($Part2.IsPresent) {\n",
    "#     #     $Result = $ResultMatrix[$Opponent].GetEnumerator() | Where-Object Name -eq $Outcome\n",
    "#     #     $ShapeScoreType = $Result.Value\n",
    "#     # } else {\n",
    "#         $Result = $ResultMatrix[$Self].GetEnumerator() | Where-Object Value -eq $Opponent\n",
    "#     #     $ShapeScoreType = $Self\n",
    "#     # }\n",
    "    \n",
    "#     $ShapeScore = switch -regex ($Self) {\n",
    "#         'A|X' { 1 ; break }\n",
    "#         'B|Y' { 2 ; break }\n",
    "#         'C|Z' { 3 ; break }\n",
    "#     }\n",
    "\n",
    "#     $ResultScore = switch ($Result.Name) {\n",
    "#         'Win'  { 6 ; break }\n",
    "#         'Draw' { 3 ; break }\n",
    "#         'Lose' { 0 ; break }\n",
    "#     }\n",
    "#     $ResultScore + $ShapeScore\n",
    "# }\n",
    "\n",
    "# function Get-RoundScorePt2 {\n",
    "#     [CmdletBinding()]\n",
    "#     param(\n",
    "#         [string]$Round\n",
    "#     )\n",
    "\n",
    "#     $Opponent,$Self = $Round.Split(' ')\n",
    "\n",
    "#     $ResultMatrix = @{\n",
    "#         A = @{ Win = 'Z'; Draw = 'X'; Lose = 'Y' } # Rock\n",
    "#         B = @{ Win = 'Z'; Draw = 'Y'; Lose = 'X' } # Paper\n",
    "#         C = @{ Win = 'X'; Draw = 'Z'; Lose = 'Y' } # Scissors\n",
    "#     }\n",
    "\n",
    "#     # A,C,B\n",
    "#     # X,Z,Y\n",
    "# #     |Rock | A, X | 1 |\n",
    "# # |Paper | B, Y | 2 |\n",
    "# # |Scissors | C, Z | 3 |\n",
    "\n",
    "# # Rock > Scissors > Paper > Rock\n",
    "\n",
    "#     $Outcome = switch ($Self) {\n",
    "#         'X' { 'Lose' ; break }\n",
    "#         'Y' { 'Draw' ; break }\n",
    "#         'Z' { 'Win'  ; break }\n",
    "#     }\n",
    "\n",
    "#     $Result = $ResultMatrix[$Opponent].GetEnumerator() | Where-Object Value -eq $Outcome\n",
    "    \n",
    "#     $ShapeScore = switch -regex ($Result.Value) {\n",
    "#         'A|X' { 1 ; break }\n",
    "#         'B|Y' { 2 ; break }\n",
    "#         'C|Z' { 3 ; break }\n",
    "#     }\n",
    "\n",
    "#     $ResultScore = switch ($Result.Name) {\n",
    "#         'Win'  { 6 ; break }\n",
    "#         'Draw' { 3 ; break }\n",
    "#         'Lose' { 0 ; break }\n",
    "#     }\n",
    "#     'Result: {0}, Shape: {1}' -f $ResultScore,$ShapeScore | Write-Verbose\n",
    "#     $ResultScore + $ShapeScore\n",
    "# }\n",
    "\n",
    "function Get-RoundScore {\n",
    "    [CmdletBinding()]\n",
    "    param(\n",
    "        [string]$Round,\n",
    "        [switch]$PlayResult\n",
    "    )\n",
    "    $Matrix = @{\n",
    "        Rock = @{\n",
    "            Symbols = 'A','X'\n",
    "            Beats = 'Scissors'\n",
    "            Score = 1\n",
    "        }\n",
    "        Paper = @{\n",
    "            Symbols = 'B','Y'\n",
    "            Beats = 'Rock'\n",
    "            Score = 2\n",
    "        }\n",
    "        Scissors = @{\n",
    "            Symbols = 'C','Z'\n",
    "            Beats = 'Paper'\n",
    "            Score = 3\n",
    "        }\n",
    "    }\n",
    "    $Opponent,$Player = $Round.Split(' ')\n",
    "    $OpponentHand = $Matrix.GetEnumerator() | Where-Object { $_.Value.Symbols -contains $Opponent}\n",
    "\n",
    "    if ($PlayResult.IsPresent) {\n",
    "        $PlayerHand = switch ($Player) {\n",
    "            # Lose\n",
    "            'X' { $Matrix.GetEnumerator() | Where-Object { $_.Key -eq $OpponentHand.Value.Beats } ; break }\n",
    "            # Draw\n",
    "            'Y' { $OpponentHand; break }\n",
    "            # Win\n",
    "            'Z' { $Matrix.GetEnumerator() | Where-Object { $_.Value.Beats -eq $OpponentHand.Key}; break}\n",
    "        }\n",
    "    } else {\n",
    "        $PlayerHand = $Matrix.GetEnumerator() | Where-Object { $_.Value.Symbols -contains $Player}\n",
    "    }\n",
    "    if ($OpponentHand.Key -eq $PlayerHand.Key) {\n",
    "        3 + $PlayerHand.Value.Score # Draw\n",
    "    } elseif ($PlayerHand.Value.Beats -eq $OpponentHand.Key) {\n",
    "        6 + $PlayerHand.Value.Score # Player Wins\n",
    "    } elseif ($OpponentHand.Value.Beats -eq $PlayerHand.Key) {\n",
    "        0 + $PlayerHand.Value.Score # Player loses\n",
    "    }\n",
    "}"
   ]
  },
  {
   "cell_type": "markdown",
   "metadata": {},
   "source": [
    "### Puzzle 1\n",
    "\n",
    "What would your total score be if everything goes exactly according to your strategy guide?\n",
    "\n",
    "#### Sample"
   ]
  },
  {
   "cell_type": "code",
   "execution_count": 13,
   "metadata": {
    "dotnet_interactive": {
     "language": "pwsh"
    },
    "vscode": {
     "languageId": "dotnet-interactive.pwsh"
    }
   },
   "outputs": [
    {
     "name": "stdout",
     "output_type": "stream",
     "text": [
      "Total score is : 15\r\n"
     ]
    }
   ],
   "source": [
    "$RPSRounds = Get-DataSet -UseSampleData\n",
    "\n",
    "$Scores = foreach ($Round in $RPSRounds) {\n",
    "    Get-RoundScore -Round $Round\n",
    "}\n",
    "$TotalScore = ($Scores | Measure-Object -Sum).Sum\n",
    "'Total score is : {0}' -f $TotalScore"
   ]
  },
  {
   "cell_type": "markdown",
   "metadata": {},
   "source": [
    "#### Full Data"
   ]
  },
  {
   "cell_type": "code",
   "execution_count": 14,
   "metadata": {
    "dotnet_interactive": {
     "language": "pwsh"
    },
    "vscode": {
     "languageId": "dotnet-interactive.pwsh"
    }
   },
   "outputs": [
    {
     "name": "stdout",
     "output_type": "stream",
     "text": [
      "Total score is : 11906\r\n"
     ]
    }
   ],
   "source": [
    "$RPSRounds = Get-DataSet\n",
    "\n",
    "$Scores = foreach ($Round in $RPSRounds) {\n",
    "    Get-RoundScore -Round $Round\n",
    "}\n",
    "$TotalScore = ($Scores | Measure-Object -Sum).Sum\n",
    "'Total score is : {0}' -f $TotalScore"
   ]
  },
  {
   "cell_type": "markdown",
   "metadata": {},
   "source": [
    "***\n",
    "\n",
    "### Puzzle 2\n",
    "\n",
    "Following the Elf's instructions for the second column, what would your total score be if everything goes exactly according to your strategy guide?\n",
    "\n",
    "#### Sample"
   ]
  },
  {
   "cell_type": "code",
   "execution_count": 15,
   "metadata": {
    "dotnet_interactive": {
     "language": "pwsh"
    },
    "vscode": {
     "languageId": "dotnet-interactive.pwsh"
    }
   },
   "outputs": [
    {
     "name": "stdout",
     "output_type": "stream",
     "text": [
      "Total score is : 12\r\n"
     ]
    }
   ],
   "source": [
    "$RPSRounds = Get-DataSet -UseSampleData\n",
    "\n",
    "$Scores = foreach ($Round in $RPSRounds) {\n",
    "    Get-RoundScore -Round $Round -PlayResult\n",
    "}\n",
    "$TotalScore = ($Scores | Measure-Object -Sum).Sum\n",
    "'Total score is : {0}' -f $TotalScore"
   ]
  },
  {
   "cell_type": "markdown",
   "metadata": {},
   "source": [
    "#### Full Data"
   ]
  },
  {
   "cell_type": "code",
   "execution_count": 16,
   "metadata": {
    "dotnet_interactive": {
     "language": "pwsh"
    },
    "vscode": {
     "languageId": "dotnet-interactive.pwsh"
    }
   },
   "outputs": [
    {
     "name": "stdout",
     "output_type": "stream",
     "text": [
      "Total score is : 11186\r\n"
     ]
    }
   ],
   "source": [
    "$RPSRounds = Get-DataSet\n",
    "\n",
    "$Scores = foreach ($Round in $RPSRounds) {\n",
    "    Get-RoundScore -Round $Round -PlayResult\n",
    "}\n",
    "$TotalScore = ($Scores | Measure-Object -Sum).Sum\n",
    "'Total score is : {0}' -f $TotalScore"
   ]
  }
 ],
 "metadata": {
  "kernelspec": {
   "display_name": ".NET (C#)",
   "language": "C#",
   "name": ".net-csharp"
  },
  "language_info": {
   "file_extension": ".cs",
   "mimetype": "text/x-csharp",
   "name": "C#",
   "pygments_lexer": "csharp",
   "version": "9.0"
  },
  "orig_nbformat": 4,
  "vscode": {
   "interpreter": {
    "hash": "96ea463da8b265c951058de84b9645eca36b660a1a779c7b0eff4941594f7f98"
   }
  }
 },
 "nbformat": 4,
 "nbformat_minor": 2
}
