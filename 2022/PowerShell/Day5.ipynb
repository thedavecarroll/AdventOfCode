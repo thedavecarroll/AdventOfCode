{
 "cells": [
  {
   "cell_type": "markdown",
   "metadata": {},
   "source": [
    "# Advent of Code 2022 - PowerShell\n",
    "\n",
    "## Day - 5\n",
    "\n",
    "[Puzzle Link](https://adventofcode.com/2022/day/5)"
   ]
  },
  {
   "cell_type": "markdown",
   "metadata": {},
   "source": [
    "### Input and Common Functions"
   ]
  },
  {
   "cell_type": "code",
   "execution_count": 7,
   "metadata": {
    "dotnet_interactive": {
     "language": "pwsh"
    },
    "vscode": {
     "languageId": "dotnet-interactive.pwsh"
    }
   },
   "outputs": [],
   "source": [
    "function Get-DataSet {\n",
    "    param([switch]$UseSampleData)\n",
    "    $DataFile = $UseSampleData.IsPresent ? '..\\PuzzleInput\\day5_sample.txt' : '..\\PuzzleInput\\day5.txt'\n",
    "    Get-Content -Path $DataFile\n",
    "}\n",
    "\n",
    "function  Get-CrateMoves {\n",
    "    param ([string[]]$DataSet)\n",
    "    $MoveRegex = '(?<Move>\\d+) from (?<From>\\d+) to (?<To>\\d+)'\n",
    "    foreach ($Line in $DataSet) {\n",
    "        if ($Line -match $MoveRegex) {\n",
    "            $Matches | Select-Object Move,From,To\n",
    "        }\n",
    "    }\n",
    "}\n",
    "\n",
    "function Get-ColumnData {\n",
    "    param ([string[]]$DataSet)\n",
    "\n",
    "    $Regex = [Regex]::new('\\[(\\w+)\\]')\n",
    "    $Columns = foreach ($Line in $DataSet) {\n",
    "        foreach ($Match in $Regex.Matches($Line)) {\n",
    "            $Match | Select-Object Index,Value\n",
    "        }\n",
    "    }\n",
    "\n",
    "    $ColumnIndices = $Columns.Index | Sort-Object -Unique\n",
    "    $ColumnCount = $ColumnIndices.Count\n",
    "\n",
    "    $ColumnData = [ordered]@{}\n",
    "    for ($i=0; $i -lt $ColumnCount;$i++) {\n",
    "        $Index = $ColumnIndices[$i]\n",
    "        $ColumnValue = $Columns.Where{$_.Index -eq $Index}.Value | ForEach-Object {\n",
    "            $_.Replace('[','').Replace(']','')\n",
    "        }\n",
    "        [array]::Reverse($ColumnValue)\n",
    "        $ColumnData.Add($i,$ColumnValue)\n",
    "    }\n",
    "    $ColumnData\n",
    "}"
   ]
  },
  {
   "cell_type": "markdown",
   "metadata": {},
   "source": [
    "### Puzzle 1\n",
    "\n",
    "After the rearrangement procedure completes, what crate ends up on top of each stack?\n",
    "\n",
    "#### Sample"
   ]
  },
  {
   "cell_type": "code",
   "execution_count": 8,
   "metadata": {
    "dotnet_interactive": {
     "language": "pwsh"
    },
    "vscode": {
     "languageId": "dotnet-interactive.pwsh"
    }
   },
   "outputs": [
    {
     "name": "stdout",
     "output_type": "stream",
     "text": [
      "Part 1: CMZ\r\n"
     ]
    }
   ],
   "source": [
    "$CrateInfo = Get-DataSet -UseSampleData\n",
    "$CrateMoves = Get-CrateMoves -DataSet $CrateInfo\n",
    "\n",
    "$ColumnData = Get-ColumnData -DataSet $CrateInfo\n",
    "foreach ($Move in $CrateMoves) {\n",
    "    $FromColumn = $Move.From - 1\n",
    "    $ToColumn = $Move.To - 1\n",
    "    for ($MoveCount = 1; $MoveCount -le $Move.Move; $MoveCount++) {\n",
    "        [array]$FromCratesList = $ColumnData.Item($FromColumn)\n",
    "        [array]$ToCratesList = $ColumnData.Item($ToColumn)\n",
    "        $TopCrate = $FromCratesList | Select-Object -Last 1\n",
    "        $ColumnData.Item($FromColumn) = $FromCratesList | Select-Object -SkipLast 1\n",
    "        $ColumnData.Item($ToColumn) = $ToCratesList + $TopCrate\n",
    "    }\n",
    "}\n",
    "$TopOfStacks = foreach ($Key in $ColumnData.Keys) {\n",
    "    $ColumnData.Item($Key) | Select-Object -Last 1\n",
    "}\n",
    "'Part 1: {0}' -f ($TopOfStacks -join '')"
   ]
  },
  {
   "cell_type": "markdown",
   "metadata": {},
   "source": [
    "#### Full Data"
   ]
  },
  {
   "cell_type": "code",
   "execution_count": 9,
   "metadata": {
    "dotnet_interactive": {
     "language": "pwsh"
    },
    "vscode": {
     "languageId": "dotnet-interactive.pwsh"
    }
   },
   "outputs": [
    {
     "name": "stdout",
     "output_type": "stream",
     "text": [
      "Part 1: ZSQVCCJLL\r\n"
     ]
    }
   ],
   "source": [
    "$CrateInfo = Get-DataSet\n",
    "$CrateMoves = Get-CrateMoves -DataSet $CrateInfo\n",
    "\n",
    "$ColumnData = Get-ColumnData -DataSet $CrateInfo\n",
    "foreach ($Move in $CrateMoves) {\n",
    "    $FromColumn = $Move.From - 1\n",
    "    $ToColumn = $Move.To - 1\n",
    "    for ($MoveCount = 1; $MoveCount -le $Move.Move; $MoveCount++) {\n",
    "        [array]$FromCratesList = $ColumnData.Item($FromColumn)\n",
    "        [array]$ToCratesList = $ColumnData.Item($ToColumn)\n",
    "        $TopCrate = $FromCratesList | Select-Object -Last 1\n",
    "        $ColumnData.Item($FromColumn) = $FromCratesList | Select-Object -SkipLast 1\n",
    "        $ColumnData.Item($ToColumn) = $ToCratesList + $TopCrate\n",
    "    }\n",
    "}\n",
    "$TopOfStacks = foreach ($Key in $ColumnData.Keys) {\n",
    "    $ColumnData.Item($Key) | Select-Object -Last 1\n",
    "}\n",
    "'Part 1: {0}' -f ($TopOfStacks -join '')"
   ]
  },
  {
   "cell_type": "markdown",
   "metadata": {},
   "source": [
    "***\n",
    "\n",
    "### Puzzle 2\n",
    "\n",
    "After the rearrangement procedure completes, what crate ends up on top of each stack?\n",
    "\n",
    "#### Sample"
   ]
  },
  {
   "cell_type": "code",
   "execution_count": 10,
   "metadata": {
    "dotnet_interactive": {
     "language": "pwsh"
    },
    "vscode": {
     "languageId": "dotnet-interactive.pwsh"
    }
   },
   "outputs": [
    {
     "name": "stdout",
     "output_type": "stream",
     "text": [
      "Part 2: MCD\r\n"
     ]
    }
   ],
   "source": [
    "$CrateInfo = Get-DataSet -UseSampleData\n",
    "$CrateMoves = Get-CrateMoves -DataSet $CrateInfo\n",
    "\n",
    "$ColumnData = Get-ColumnData -DataSet $CrateInfo\n",
    "foreach ($Move in $CrateMoves) {\n",
    "    $FromColumn = $Move.From - 1\n",
    "    $ToColumn = $Move.To - 1\n",
    "    [array]$FromCratesList = $ColumnData.Item($FromColumn)\n",
    "    [array]$ToCratesList = $ColumnData.Item($ToColumn)\n",
    "    $TopCrates = $FromCratesList | Select-Object -Last $Move.Move\n",
    "    $ColumnData.Item($FromColumn) = $FromCratesList | Select-Object -SkipLast $Move.Move\n",
    "    $ColumnData.Item($ToColumn) = $ToCratesList + $TopCrates\n",
    "}\n",
    "$TopOfStacks = foreach ($Key in $ColumnData.Keys) {\n",
    "    $ColumnData.Item($Key) | Select-Object -Last 1\n",
    "}\n",
    "'Part 2: {0}' -f ($TopOfStacks -join '')"
   ]
  },
  {
   "cell_type": "markdown",
   "metadata": {},
   "source": [
    "#### Full Data"
   ]
  },
  {
   "cell_type": "code",
   "execution_count": 11,
   "metadata": {
    "dotnet_interactive": {
     "language": "pwsh"
    },
    "vscode": {
     "languageId": "dotnet-interactive.pwsh"
    }
   },
   "outputs": [
    {
     "name": "stdout",
     "output_type": "stream",
     "text": [
      "Part 2: QZFJRWHGS\r\n"
     ]
    }
   ],
   "source": [
    "$CrateInfo = Get-DataSet\n",
    "$CrateMoves = Get-CrateMoves -DataSet $CrateInfo\n",
    "\n",
    "$ColumnData = Get-ColumnData -DataSet $CrateInfo\n",
    "foreach ($Move in $CrateMoves) {\n",
    "    $FromColumn = $Move.From - 1\n",
    "    $ToColumn = $Move.To - 1\n",
    "    [array]$FromCratesList = $ColumnData.Item($FromColumn)\n",
    "    [array]$ToCratesList = $ColumnData.Item($ToColumn)\n",
    "    $TopCrates = $FromCratesList | Select-Object -Last $Move.Move\n",
    "    $ColumnData.Item($FromColumn) = $FromCratesList | Select-Object -SkipLast $Move.Move\n",
    "    $ColumnData.Item($ToColumn) = $ToCratesList + $TopCrates\n",
    "}\n",
    "$TopOfStacks = foreach ($Key in $ColumnData.Keys) {\n",
    "    $ColumnData.Item($Key) | Select-Object -Last 1\n",
    "}\n",
    "'Part 2: {0}' -f ($TopOfStacks -join '')"
   ]
  }
 ],
 "metadata": {
  "kernelspec": {
   "display_name": ".NET (C#)",
   "language": "C#",
   "name": ".net-csharp"
  },
  "language_info": {
   "file_extension": ".cs",
   "mimetype": "text/x-csharp",
   "name": "C#",
   "pygments_lexer": "csharp",
   "version": "9.0"
  },
  "orig_nbformat": 4,
  "vscode": {
   "interpreter": {
    "hash": "96ea463da8b265c951058de84b9645eca36b660a1a779c7b0eff4941594f7f98"
   }
  }
 },
 "nbformat": 4,
 "nbformat_minor": 2
}
